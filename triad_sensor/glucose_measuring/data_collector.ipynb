{
 "cells": [
  {
   "cell_type": "code",
   "execution_count": 3,
   "metadata": {},
   "outputs": [],
   "source": [
    "import serial\n",
    "from datetime import datetime\n",
    "import os\n",
    "from IPython.display import clear_output\n",
    "\n",
    "base = \"data/\"\n",
    "arduino = serial.Serial(port='/dev/cu.usbserial-1420', baudrate=115200, timeout=.1)\n",
    "\n",
    "n_samples = 5\n",
    "glucose_amount = 20\n",
    "units = \"mg.dL\"\n"
   ]
  },
  {
   "cell_type": "code",
   "execution_count": 4,
   "metadata": {},
   "outputs": [
    {
     "name": "stdout",
     "output_type": "stream",
     "text": [
      "Entry 8 added\n"
     ]
    },
    {
     "ename": "KeyboardInterrupt",
     "evalue": "",
     "output_type": "error",
     "traceback": [
      "\u001b[0;31m---------------------------------------------------------------------------\u001b[0m",
      "\u001b[0;31mKeyboardInterrupt\u001b[0m                         Traceback (most recent call last)",
      "\u001b[1;32m/Users/denisbalogh/Desktop/Skola/Bakalarka/glucose-tracker/triad_sensor/glucose_measuring/data_collector.ipynb Cell 2\u001b[0m line \u001b[0;36m1\n\u001b[1;32m     <a href='vscode-notebook-cell:/Users/denisbalogh/Desktop/Skola/Bakalarka/glucose-tracker/triad_sensor/glucose_measuring/data_collector.ipynb#W2sZmlsZQ%3D%3D?line=9'>10</a>\u001b[0m arduino\u001b[39m.\u001b[39mwrite(\u001b[39mb\u001b[39m\u001b[39m'\u001b[39m\u001b[39mget\u001b[39m\u001b[39m'\u001b[39m)\n\u001b[1;32m     <a href='vscode-notebook-cell:/Users/denisbalogh/Desktop/Skola/Bakalarka/glucose-tracker/triad_sensor/glucose_measuring/data_collector.ipynb#W2sZmlsZQ%3D%3D?line=10'>11</a>\u001b[0m \u001b[39mwhile\u001b[39;00m \u001b[39mTrue\u001b[39;00m:\n\u001b[1;32m     <a href='vscode-notebook-cell:/Users/denisbalogh/Desktop/Skola/Bakalarka/glucose-tracker/triad_sensor/glucose_measuring/data_collector.ipynb#W2sZmlsZQ%3D%3D?line=11'>12</a>\u001b[0m     \u001b[39m# Wait until arduino sends data\u001b[39;00m\n\u001b[0;32m---> <a href='vscode-notebook-cell:/Users/denisbalogh/Desktop/Skola/Bakalarka/glucose-tracker/triad_sensor/glucose_measuring/data_collector.ipynb#W2sZmlsZQ%3D%3D?line=12'>13</a>\u001b[0m     \u001b[39mif\u001b[39;00m arduino\u001b[39m.\u001b[39;49min_waiting \u001b[39m>\u001b[39m \u001b[39m0\u001b[39m:\n\u001b[1;32m     <a href='vscode-notebook-cell:/Users/denisbalogh/Desktop/Skola/Bakalarka/glucose-tracker/triad_sensor/glucose_measuring/data_collector.ipynb#W2sZmlsZQ%3D%3D?line=13'>14</a>\u001b[0m         line \u001b[39m=\u001b[39m arduino\u001b[39m.\u001b[39mreadline()\n\u001b[1;32m     <a href='vscode-notebook-cell:/Users/denisbalogh/Desktop/Skola/Bakalarka/glucose-tracker/triad_sensor/glucose_measuring/data_collector.ipynb#W2sZmlsZQ%3D%3D?line=14'>15</a>\u001b[0m         f\u001b[39m.\u001b[39mwrite(line\u001b[39m.\u001b[39mdecode())\n",
      "File \u001b[0;32m~/Desktop/Skola/Bakalarka/glucose-tracker/env/lib/python3.8/site-packages/serial/serialposix.py:549\u001b[0m, in \u001b[0;36mSerial.in_waiting\u001b[0;34m(self)\u001b[0m\n\u001b[1;32m    547\u001b[0m \u001b[39m\u001b[39m\u001b[39m\"\"\"Return the number of bytes currently in the input buffer.\"\"\"\u001b[39;00m\n\u001b[1;32m    548\u001b[0m \u001b[39m#~ s = fcntl.ioctl(self.fd, termios.FIONREAD, TIOCM_zero_str)\u001b[39;00m\n\u001b[0;32m--> 549\u001b[0m s \u001b[39m=\u001b[39m fcntl\u001b[39m.\u001b[39;49mioctl(\u001b[39mself\u001b[39;49m\u001b[39m.\u001b[39;49mfd, TIOCINQ, TIOCM_zero_str)\n\u001b[1;32m    550\u001b[0m \u001b[39mreturn\u001b[39;00m struct\u001b[39m.\u001b[39munpack(\u001b[39m'\u001b[39m\u001b[39mI\u001b[39m\u001b[39m'\u001b[39m, s)[\u001b[39m0\u001b[39m]\n",
      "\u001b[0;31mKeyboardInterrupt\u001b[0m: "
     ]
    }
   ],
   "source": [
    "batch_path = os.path.join(base, str(glucose_amount) + units + '.csv')\n",
    "\n",
    "if os.path.exists(batch_path):\n",
    "    print(\"Batch already exists. Exiting.\")\n",
    "else:\n",
    "    print(\"Starting batch: \" + batch_path)\n",
    "    with open(batch_path, 'w') as f:\n",
    "        for x in range(n_samples):\n",
    "            # Send get command to arduino\n",
    "            arduino.write(b'get')\n",
    "            while True:\n",
    "                # Wait until arduino sends data\n",
    "                if arduino.in_waiting > 0:\n",
    "                    line = arduino.readline()\n",
    "                    f.write(line.decode())\n",
    "                    # Log process\n",
    "                    clear_output(wait=True)\n",
    "                    print(f\"Entry {x + 1} added\")\n",
    "                    break\n"
   ]
  }
 ],
 "metadata": {
  "kernelspec": {
   "display_name": "env",
   "language": "python",
   "name": "python3"
  },
  "language_info": {
   "codemirror_mode": {
    "name": "ipython",
    "version": 3
   },
   "file_extension": ".py",
   "mimetype": "text/x-python",
   "name": "python",
   "nbconvert_exporter": "python",
   "pygments_lexer": "ipython3",
   "version": "3.8.3"
  }
 },
 "nbformat": 4,
 "nbformat_minor": 2
}
