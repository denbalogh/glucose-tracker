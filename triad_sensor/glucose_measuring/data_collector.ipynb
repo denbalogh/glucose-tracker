{
 "cells": [
  {
   "cell_type": "code",
   "execution_count": 5,
   "metadata": {},
   "outputs": [],
   "source": [
    "import serial\n",
    "from datetime import datetime\n",
    "import os\n",
    "from IPython.display import clear_output\n",
    "\n",
    "base = \"data/\"\n",
    "arduino = serial.Serial(port='/dev/cu.usbserial-1420', baudrate=115200, timeout=.1)\n",
    "\n",
    "n_samples = 5\n",
    "glucose_amount = 2\n",
    "units = \"mmol.l\"\n"
   ]
  },
  {
   "cell_type": "code",
   "execution_count": 6,
   "metadata": {},
   "outputs": [
    {
     "name": "stdout",
     "output_type": "stream",
     "text": [
      "Entry 5 added\n"
     ]
    }
   ],
   "source": [
    "batch_path = os.path.join(base, str(glucose_amount) + units + '.csv')\n",
    "\n",
    "if os.path.exists(batch_path):\n",
    "    print(\"Batch already exists. Exiting.\")\n",
    "else:\n",
    "    print(\"Starting batch: \" + batch_path)\n",
    "    with open(batch_path, 'w') as f:\n",
    "        for x in range(n_samples):\n",
    "            # Send get command to arduino\n",
    "            arduino.write(b'get')\n",
    "            while True:\n",
    "                # Wait until arduino sends data\n",
    "                if arduino.in_waiting > 0:\n",
    "                    line = arduino.readline()\n",
    "                    f.write(line.decode())\n",
    "                    # Log process\n",
    "                    clear_output(wait=True)\n",
    "                    print(f\"Entry {x + 1} added\")\n",
    "                    break\n"
   ]
  }
 ],
 "metadata": {
  "kernelspec": {
   "display_name": "env",
   "language": "python",
   "name": "python3"
  },
  "language_info": {
   "codemirror_mode": {
    "name": "ipython",
    "version": 3
   },
   "file_extension": ".py",
   "mimetype": "text/x-python",
   "name": "python",
   "nbconvert_exporter": "python",
   "pygments_lexer": "ipython3",
   "version": "3.8.3"
  }
 },
 "nbformat": 4,
 "nbformat_minor": 2
}
