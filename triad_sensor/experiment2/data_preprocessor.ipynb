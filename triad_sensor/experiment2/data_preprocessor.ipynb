{
 "cells": [
  {
   "cell_type": "code",
   "execution_count": 4,
   "metadata": {},
   "outputs": [],
   "source": [
    "import numpy as np\n",
    "import os\n",
    "\n",
    "base = \"data/\"\n"
   ]
  },
  {
   "cell_type": "code",
   "execution_count": 21,
   "metadata": {},
   "outputs": [],
   "source": [
    "from sklearn.preprocessing import StandardScaler\n",
    "scaler = StandardScaler()\n",
    "\n",
    "data_x_file = open(\"preprocessed_data/dataX.csv\", \"w\")\n",
    "data_y_file = open(\"preprocessed_data/dataY.csv\", \"w\")\n",
    "\n",
    "\n",
    "for filename in os.listdir(base):\n",
    "    with open(base + filename, \"r\") as f:\n",
    "        content = f.readlines()\n",
    "        entries = content[1:-2]\n",
    "        glucose_start = float(content[-2].replace(\"glucose_start:\", \"\").replace(\"\\n\", \"\"))\n",
    "        glucose_end = float(content[-1].replace(\"glucose_end:\", \"\").replace(\"\\n\", \"\"))\n",
    "        glucose_step = (glucose_end - glucose_start) / (len(entries) - 1)\n",
    "        for i, entry in enumerate(entries):\n",
    "            glucose = round(glucose_start + i * glucose_step, 2)\n",
    "            data_x_file.write(entry)\n",
    "            data_y_file.write(str(glucose) + \"\\n\")\n",
    "\n",
    "data_x_file.close()\n",
    "data_y_file.close()\n"
   ]
  }
 ],
 "metadata": {
  "kernelspec": {
   "display_name": "env",
   "language": "python",
   "name": "python3"
  },
  "language_info": {
   "codemirror_mode": {
    "name": "ipython",
    "version": 3
   },
   "file_extension": ".py",
   "mimetype": "text/x-python",
   "name": "python",
   "nbconvert_exporter": "python",
   "pygments_lexer": "ipython3",
   "version": "3.8.3"
  }
 },
 "nbformat": 4,
 "nbformat_minor": 2
}
