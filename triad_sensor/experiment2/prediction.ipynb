{
 "cells": [
  {
   "cell_type": "code",
   "execution_count": 2,
   "metadata": {},
   "outputs": [],
   "source": [
    "from joblib import load\n",
    "\n",
    "std_scaler = load('./prediction_models/std_scaler.joblib')\n",
    "linear_regression = load('./prediction_models/linear_regression.joblib')\n",
    "random_forest = load('./prediction_models/random_forest.joblib')\n",
    "neural_network = load('./prediction_models/neural_network.joblib')\n"
   ]
  },
  {
   "cell_type": "code",
   "execution_count": 3,
   "metadata": {},
   "outputs": [],
   "source": [
    "import serial\n",
    "\n",
    "arduino = serial.Serial(port='/dev/cu.usbserial-1430', baudrate=115200, timeout=.1)\n"
   ]
  },
  {
   "cell_type": "code",
   "execution_count": 45,
   "metadata": {},
   "outputs": [],
   "source": [
    "import numpy as np\n",
    "\n",
    "def predict(data):\n",
    "    data = np.fromstring(data, dtype=float, sep=',').reshape(1, -1)\n",
    "    scaled_data = std_scaler.transform(data)\n",
    "    print(\"Linear regression: \", linear_regression.predict(scaled_data))\n",
    "    print(\"Random forest: \", random_forest.predict(data))\n",
    "    print(\"Neural network: \", neural_network.predict(scaled_data))\n"
   ]
  },
  {
   "cell_type": "code",
   "execution_count": 86,
   "metadata": {},
   "outputs": [
    {
     "name": "stdout",
     "output_type": "stream",
     "text": [
      "Random forest:  [5.80128555]\n",
      "Linear regression:  [7.43924941]\n",
      "Neural network:  [8.0945189]\n"
     ]
    }
   ],
   "source": [
    "# Send get command to arduino\n",
    "command = \"get:3,max\"\n",
    "arduino.write(bytes(command, 'utf-8'))\n",
    "while True:\n",
    "    # Wait until arduino sends data\n",
    "    if arduino.in_waiting > 0:\n",
    "        line = arduino.readline()\n",
    "        predict(line.decode())\n",
    "        break\n"
   ]
  }
 ],
 "metadata": {
  "kernelspec": {
   "display_name": "env",
   "language": "python",
   "name": "python3"
  },
  "language_info": {
   "codemirror_mode": {
    "name": "ipython",
    "version": 3
   },
   "file_extension": ".py",
   "mimetype": "text/x-python",
   "name": "python",
   "nbconvert_exporter": "python",
   "pygments_lexer": "ipython3",
   "version": "3.8.3"
  }
 },
 "nbformat": 4,
 "nbformat_minor": 2
}
