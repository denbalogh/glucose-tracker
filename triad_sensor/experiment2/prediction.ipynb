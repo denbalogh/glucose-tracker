{
 "cells": [
  {
   "cell_type": "code",
   "execution_count": 2,
   "metadata": {},
   "outputs": [],
   "source": [
    "from joblib import load\n",
    "\n",
    "std_scaler = load('./prediction_models/std_scaler.joblib')\n",
    "linear_regression = load('./prediction_models/linear_regression.joblib')\n",
    "random_forest = load('./prediction_models/random_forest.joblib')\n",
    "neural_network = load('./prediction_models/neural_network.joblib')\n"
   ]
  },
  {
   "cell_type": "code",
   "execution_count": 3,
   "metadata": {},
   "outputs": [],
   "source": [
    "import serial\n",
    "\n",
    "arduino = serial.Serial(port='/dev/cu.usbserial-1430', baudrate=115200, timeout=.1)\n"
   ]
  },
  {
   "cell_type": "code",
   "execution_count": 45,
   "metadata": {},
   "outputs": [],
   "source": [
    "import numpy as np\n",
    "\n",
    "def predict(data):\n",
    "    data = np.fromstring(data, dtype=float, sep=',').reshape(1, -1)\n",
    "    scaled_data = std_scaler.transform(data)\n",
    "    return (linear_regression.predict(scaled_data), random_forest.predict(data), neural_network.predict(scaled_data))\n"
   ]
  },
  {
   "cell_type": "code",
   "execution_count": 86,
   "metadata": {},
   "outputs": [
    {
     "name": "stdout",
     "output_type": "stream",
     "text": [
      "Random forest:  [5.80128555]\n",
      "Linear regression:  [7.43924941]\n",
      "Neural network:  [8.0945189]\n"
     ]
    }
   ],
   "source": [
    "import numpy as np\n",
    "\n",
    "mean_count = 3\n",
    "lr_prediction = 0\n",
    "rf_prediction = 0\n",
    "nn_prediction = 0\n",
    "\n",
    "# Continuous prediction\n",
    "while True:\n",
    "    # Send get command to arduino\n",
    "    command = \"get:3,max\"\n",
    "    arduino.write(bytes(command, 'utf-8'))\n",
    "    while True:\n",
    "        # Wait until arduino sends data\n",
    "        if arduino.in_waiting > 0:\n",
    "            line = arduino.readline()\n",
    "            predictions = predict(line.decode())\n",
    "            break\n",
    "    \n",
    "    if lr_prediction == 0:\n",
    "        lr_prediction = predictions[0]\n",
    "    else:\n",
    "        lr_prediction = 0.9 * lr_prediction + 0.1 * predictions[0]\n",
    "        \n",
    "    if rf_prediction == 0:\n",
    "        rf_prediction = predictions[1]\n",
    "    else:\n",
    "        rf_prediction = 0.9 * rf_prediction + 0.1 * predictions[1]\n",
    "        \n",
    "    if nn_prediction == 0:\n",
    "        nn_prediction = predictions[2]\n",
    "    else:\n",
    "        nn_prediction = 0.9 * nn_prediction + 0.1 * predictions[2]\n",
    "        \n",
    "    print(\"LR: \" + str(lr_prediction) + \" RF: \" + str(rf_prediction) + \" NN: \" + str(nn_prediction))"
   ]
  }
 ],
 "metadata": {
  "kernelspec": {
   "display_name": "env",
   "language": "python",
   "name": "python3"
  },
  "language_info": {
   "codemirror_mode": {
    "name": "ipython",
    "version": 3
   },
   "file_extension": ".py",
   "mimetype": "text/x-python",
   "name": "python",
   "nbconvert_exporter": "python",
   "pygments_lexer": "ipython3",
   "version": "3.8.3"
  }
 },
 "nbformat": 4,
 "nbformat_minor": 2
}
