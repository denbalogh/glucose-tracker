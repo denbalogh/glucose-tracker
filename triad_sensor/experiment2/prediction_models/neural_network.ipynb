{
 "cells": [
  {
   "cell_type": "code",
   "execution_count": 53,
   "metadata": {},
   "outputs": [],
   "source": [
    "import numpy as np\n",
    "import torch\n",
    "from torch import nn\n",
    "from torch.utils.data import Dataset, DataLoader\n",
    "from sklearn.metrics import mean_squared_error\n",
    "from sklearn.preprocessing import StandardScaler\n",
    "from sklearn.model_selection import train_test_split\n",
    "from joblib import dump\n",
    "from matplotlib import pyplot as plt\n"
   ]
  },
  {
   "cell_type": "code",
   "execution_count": 8,
   "metadata": {},
   "outputs": [],
   "source": [
    "dataX = np.loadtxt(\"../preprocessed_data/dataX.csv\", delimiter=\",\")\n",
    "dataY = np.loadtxt(\"../preprocessed_data/dataY.csv\", delimiter=\",\")\n"
   ]
  },
  {
   "cell_type": "code",
   "execution_count": 9,
   "metadata": {},
   "outputs": [
    {
     "data": {
      "text/plain": [
       "['std_scaler.joblib']"
      ]
     },
     "execution_count": 9,
     "metadata": {},
     "output_type": "execute_result"
    }
   ],
   "source": [
    "scaler = StandardScaler()\n",
    "\n",
    "scaledDataX = scaler.fit_transform(dataX)\n",
    "\n",
    "dump(scaler, \"std_scaler.joblib\")\n"
   ]
  },
  {
   "cell_type": "code",
   "execution_count": 10,
   "metadata": {},
   "outputs": [
    {
     "data": {
      "text/plain": [
       "((2412, 13), (603, 13), (2412,), (603,))"
      ]
     },
     "execution_count": 10,
     "metadata": {},
     "output_type": "execute_result"
    }
   ],
   "source": [
    "X_train, X_test, y_train, y_test = train_test_split(scaledDataX, dataY, test_size=0.2, random_state=42)\n",
    "\n",
    "X_train.shape, X_test.shape, y_train.shape, y_test.shape\n"
   ]
  },
  {
   "cell_type": "code",
   "execution_count": 44,
   "metadata": {},
   "outputs": [],
   "source": [
    "class SensorDataset(Dataset):\n",
    "    def __init__(self, X, y):\n",
    "        self.X = torch.from_numpy(X).float()\n",
    "        self.y = torch.from_numpy(y).float()\n",
    "        \n",
    "    def __len__(self):\n",
    "        return self.X.shape[0]\n",
    "    \n",
    "    def __getitem__(self, ix):\n",
    "        x = self.X[ix]\n",
    "        y = self.y[ix]\n",
    "        return x, y\n",
    "    \n",
    "    def get_all(self):\n",
    "        return self.X, self.y\n",
    "    \n",
    "train_set = SensorDataset(X_train, y_train)\n",
    "test_set = SensorDataset(X_test, y_test)\n",
    "\n",
    "batch_size = 32\n",
    "train_loader = DataLoader(train_set, batch_size=batch_size, shuffle=True)"
   ]
  },
  {
   "cell_type": "code",
   "execution_count": 58,
   "metadata": {},
   "outputs": [
    {
     "name": "stdout",
     "output_type": "stream",
     "text": [
      "MLP(\n",
      "  (layers): Sequential(\n",
      "    (0): Linear(in_features=13, out_features=64, bias=True)\n",
      "    (1): ReLU()\n",
      "    (2): Linear(in_features=64, out_features=32, bias=True)\n",
      "    (3): ReLU()\n",
      "    (4): Linear(in_features=32, out_features=1, bias=True)\n",
      "  )\n",
      ")\n"
     ]
    }
   ],
   "source": [
    "device = torch.device('cuda' if torch.cuda.is_available() else 'cpu')\n",
    "\n",
    "hidden1 = 64\n",
    "hidden2 = 32\n",
    "\n",
    "class MLP(nn.Module):\n",
    "    def __init__(self):\n",
    "        super(MLP, self).__init__()\n",
    "        self.layers = nn.Sequential(\n",
    "            nn.Linear(dataX.shape[1], hidden1),\n",
    "            nn.ReLU(),\n",
    "            nn.Linear(hidden1, hidden2),\n",
    "            nn.ReLU(),\n",
    "            nn.Linear(hidden2, 1)\n",
    "        )\n",
    "\n",
    "    def forward(self, x):\n",
    "        return self.layers(x)\n",
    "    \n",
    "model = MLP().to(device)\n",
    "\n",
    "loss_function = nn.MSELoss()\n",
    "optimizer = torch.optim.Adam(model.parameters())\n",
    "\n",
    "print(model)"
   ]
  },
  {
   "cell_type": "code",
   "execution_count": 59,
   "metadata": {},
   "outputs": [
    {
     "name": "stdout",
     "output_type": "stream",
     "text": [
      "Epoch 1/5\n",
      "Loss: 6.649249913641576\n",
      "Loss: 5.66909595851194\n",
      "Loss: 5.446302282937379\n",
      "Loss: 5.1328169591875605\n",
      "Loss: 4.427547200154361\n",
      "Loss: 3.434788414714569\n",
      "Loss: 2.8829512730720435\n",
      "Loss: 2.380387670214718\n",
      "Epoch 2/5\n",
      "Loss: 2.230037614137378\n",
      "Loss: 1.6600330262173473\n",
      "Loss: 1.7173093827149182\n",
      "Loss: 1.6354921975481775\n",
      "Loss: 1.472793855992255\n",
      "Loss: 1.4134316064449004\n",
      "Loss: 1.3342215688791594\n",
      "Loss: 0.9627984178820117\n",
      "Epoch 3/5\n",
      "Loss: 0.9892519077979628\n",
      "Loss: 1.0480038833473415\n",
      "Loss: 0.6160878876250695\n",
      "Loss: 0.8437655765367215\n",
      "Loss: 1.0206904927700904\n",
      "Loss: 0.8461809108147084\n",
      "Loss: 0.9313688061602552\n",
      "Loss: 0.7257436834987516\n",
      "Epoch 4/5\n",
      "Loss: 0.7904451927208268\n",
      "Loss: 0.732121805393465\n",
      "Loss: 0.9175508887291172\n",
      "Loss: 0.6284622141238496\n",
      "Loss: 0.5133754904990573\n",
      "Loss: 0.6231338296798428\n",
      "Loss: 0.9806972404600637\n",
      "Loss: 0.6842875638176531\n",
      "Epoch 5/5\n",
      "Loss: 0.496887248266153\n",
      "Loss: 0.47771751642308086\n",
      "Loss: 0.614097465121478\n",
      "Loss: 0.5158556220128832\n",
      "Loss: 0.5286352097018543\n",
      "Loss: 0.5711160251014948\n",
      "Loss: 0.5176143129761357\n",
      "Loss: 0.6552212007853088\n"
     ]
    }
   ],
   "source": [
    "epochs = 5\n",
    "losses = []\n",
    "\n",
    "model.train()\n",
    "for epoch in range(epochs):\n",
    "    print(f\"Epoch {epoch+1}/{epochs}\")\n",
    "    \n",
    "    for batch_num, input_data in enumerate(train_loader):\n",
    "        optimizer.zero_grad()\n",
    "        x, y = input_data\n",
    "        x = x.to(device).float()\n",
    "        y = y.to(device).float().view(-1, 1)\n",
    "\n",
    "        output = model(x)\n",
    "        \n",
    "        loss = loss_function(output, y)\n",
    "        loss.backward()\n",
    "        losses.append(loss.item())\n",
    "\n",
    "        optimizer.step()\n",
    "        \n",
    "        if batch_num % 10 == 0:\n",
    "            print(f\"Loss: {loss.item() ** 0.5}\")\n",
    "\n",
    "        "
   ]
  },
  {
   "cell_type": "code",
   "execution_count": 60,
   "metadata": {},
   "outputs": [
    {
     "data": {
      "text/plain": [
       "[<matplotlib.lines.Line2D at 0x7fdd417d9970>]"
      ]
     },
     "execution_count": 60,
     "metadata": {},
     "output_type": "execute_result"
    },
    {
     "data": {
      "image/png": "[encoded data removed]",
      "text/plain": [
       "<Figure size 640x480 with 1 Axes>"
      ]
     },
     "metadata": {},
     "output_type": "display_data"
    }
   ],
   "source": [
    "plt.plot(losses)"
   ]
  },
  {
   "cell_type": "code",
   "execution_count": 61,
   "metadata": {},
   "outputs": [
    {
     "name": "stdout",
     "output_type": "stream",
     "text": [
      "Test loss: 0.501242821563537\n"
     ]
    }
   ],
   "source": [
    "model.eval()\n",
    "\n",
    "test_X, test_y = test_set.get_all()\n",
    "\n",
    "test_predictions = model(test_X)\n",
    "\n",
    "loss = loss_function(test_predictions, test_y.view(-1, 1))\n",
    "\n",
    "print(f\"Test loss: {loss.item() ** 0.5}\")\n"
   ]
  }
 ],
 "metadata": {
  "kernelspec": {
   "display_name": "env",
   "language": "python",
   "name": "python3"
  },
  "language_info": {
   "codemirror_mode": {
    "name": "ipython",
    "version": 3
   },
   "file_extension": ".py",
   "mimetype": "text/x-python",
   "name": "python",
   "nbconvert_exporter": "python",
   "pygments_lexer": "ipython3",
   "version": "3.8.3"
  }
 },
 "nbformat": 4,
 "nbformat_minor": 2
}
