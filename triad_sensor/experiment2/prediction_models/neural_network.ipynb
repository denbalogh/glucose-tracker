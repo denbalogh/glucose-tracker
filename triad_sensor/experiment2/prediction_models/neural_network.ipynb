{
 "cells": [
  {
   "cell_type": "code",
   "execution_count": 48,
   "metadata": {},
   "outputs": [],
   "source": [
    "import numpy as np\n",
    "import torch\n",
    "from torch import nn\n",
    "from torch.utils.data import Dataset, DataLoader\n",
    "from sklearn.preprocessing import StandardScaler\n",
    "from joblib import dump\n",
    "from matplotlib import pyplot as plt\n"
   ]
  },
  {
   "cell_type": "code",
   "execution_count": 49,
   "metadata": {},
   "outputs": [
    {
     "data": {
      "text/plain": [
       "((3015, 13), (3015,), (2680, 13), (2680,), (335, 13), (335,))"
      ]
     },
     "execution_count": 49,
     "metadata": {},
     "output_type": "execute_result"
    }
   ],
   "source": [
    "dataX = np.loadtxt(\"../preprocessed_data/dataX.csv\", delimiter=\",\")\n",
    "dataY = np.loadtxt(\"../preprocessed_data/dataY.csv\", delimiter=\",\")\n",
    "\n",
    "trainX = np.loadtxt(\"../preprocessed_data/trainX.csv\", delimiter=\",\")\n",
    "trainY = np.loadtxt(\"../preprocessed_data/trainY.csv\", delimiter=\",\")\n",
    "\n",
    "testX = np.loadtxt(\"../preprocessed_data/testX.csv\", delimiter=\",\")\n",
    "testY = np.loadtxt(\"../preprocessed_data/testY.csv\", delimiter=\",\")\n",
    "\n",
    "dataX.shape, dataY.shape, trainX.shape, trainY.shape, testX.shape, testY.shape\n"
   ]
  },
  {
   "cell_type": "code",
   "execution_count": 50,
   "metadata": {},
   "outputs": [
    {
     "data": {
      "text/plain": [
       "['std_scaler.joblib']"
      ]
     },
     "execution_count": 50,
     "metadata": {},
     "output_type": "execute_result"
    }
   ],
   "source": [
    "scaler = StandardScaler()\n",
    "\n",
    "scaler.fit(dataX)\n",
    "\n",
    "trainX = scaler.transform(trainX)\n",
    "testX = scaler.transform(testX)\n",
    "\n",
    "dump(scaler, \"std_scaler.joblib\")\n"
   ]
  },
  {
   "cell_type": "code",
   "execution_count": 51,
   "metadata": {},
   "outputs": [],
   "source": [
    "class SensorDataset(Dataset):\n",
    "    def __init__(self, X, y):\n",
    "        self.X = torch.from_numpy(X).float()\n",
    "        self.y = torch.from_numpy(y).float()\n",
    "        \n",
    "    def __len__(self):\n",
    "        return self.X.shape[0]\n",
    "    \n",
    "    def __getitem__(self, ix):\n",
    "        x = self.X[ix]\n",
    "        y = self.y[ix]\n",
    "        return x, y\n",
    "    \n",
    "    def get_all(self):\n",
    "        return self.X, self.y\n",
    "    \n",
    "train_set = SensorDataset(trainX, trainY)\n",
    "test_set = SensorDataset(testX, testY)\n",
    "\n",
    "batch_size = 32\n",
    "train_loader = DataLoader(train_set, batch_size=batch_size, shuffle=True)"
   ]
  },
  {
   "cell_type": "code",
   "execution_count": 52,
   "metadata": {},
   "outputs": [
    {
     "name": "stdout",
     "output_type": "stream",
     "text": [
      "MLP(\n",
      "  (layers): Sequential(\n",
      "    (0): Linear(in_features=13, out_features=64, bias=True)\n",
      "    (1): ReLU()\n",
      "    (2): Linear(in_features=64, out_features=32, bias=True)\n",
      "    (3): ReLU()\n",
      "    (4): Linear(in_features=32, out_features=1, bias=True)\n",
      "  )\n",
      ")\n"
     ]
    }
   ],
   "source": [
    "device = torch.device('cuda' if torch.cuda.is_available() else 'cpu')\n",
    "\n",
    "hidden1 = 64\n",
    "hidden2 = 32\n",
    "\n",
    "class MLP(nn.Module):\n",
    "    def __init__(self):\n",
    "        super(MLP, self).__init__()\n",
    "        self.layers = nn.Sequential(\n",
    "            nn.Linear(trainX.shape[1], hidden1),\n",
    "            nn.ReLU(),\n",
    "            nn.Linear(hidden1, hidden2),\n",
    "            nn.ReLU(),\n",
    "            nn.Linear(hidden2, 1)\n",
    "        )\n",
    "\n",
    "    def forward(self, x):\n",
    "        return self.layers(x)\n",
    "    \n",
    "model = MLP().to(device)\n",
    "\n",
    "loss_function = nn.MSELoss()\n",
    "optimizer = torch.optim.Adam(model.parameters())\n",
    "\n",
    "print(model)"
   ]
  },
  {
   "cell_type": "code",
   "execution_count": 53,
   "metadata": {},
   "outputs": [
    {
     "name": "stdout",
     "output_type": "stream",
     "text": [
      "Epoch 1/6\n",
      "Loss: 7.207568471677933\n",
      "Loss: 6.2488661691268605\n",
      "Loss: 6.2823767718955486\n",
      "Loss: 5.533191404858749\n",
      "Loss: 4.570513024780958\n",
      "Loss: 3.7519475330189977\n",
      "Loss: 2.8913602976328527\n",
      "Loss: 3.0113138799989803\n",
      "Loss: 2.4067683466656526\n",
      "Epoch 2/6\n",
      "Loss: 2.2217447191718422\n",
      "Loss: 1.806117560471198\n",
      "Loss: 2.2500466235946335\n",
      "Loss: 1.8626651025086054\n",
      "Loss: 1.6184801473263206\n",
      "Loss: 1.393428120415776\n",
      "Loss: 1.4132917210837868\n",
      "Loss: 1.3697710313681057\n",
      "Loss: 1.1912688129136373\n",
      "Epoch 3/6\n",
      "Loss: 1.028600699806754\n",
      "Loss: 1.1969226638426624\n",
      "Loss: 1.1306895917552915\n",
      "Loss: 1.1786197604966027\n",
      "Loss: 0.9355476076764322\n",
      "Loss: 0.8883719472622006\n",
      "Loss: 0.9327811371660303\n",
      "Loss: 0.6664682679202535\n",
      "Loss: 0.7502515688825434\n",
      "Epoch 4/6\n",
      "Loss: 1.0186020866622838\n",
      "Loss: 0.9269404497658462\n",
      "Loss: 0.7799473010502818\n",
      "Loss: 0.6680490991999039\n",
      "Loss: 0.605248885073732\n",
      "Loss: 0.6202977435761424\n",
      "Loss: 0.9316260378673263\n",
      "Loss: 0.746422580335123\n",
      "Loss: 0.6097129471560264\n",
      "Epoch 5/6\n",
      "Loss: 0.7662142607426976\n",
      "Loss: 0.3897581400165001\n",
      "Loss: 0.41296029491046565\n",
      "Loss: 0.484341266441857\n",
      "Loss: 0.36799925497487573\n",
      "Loss: 0.354773123736874\n",
      "Loss: 0.5356301485702217\n",
      "Loss: 0.5229884256719654\n",
      "Loss: 0.2584791955443364\n",
      "Epoch 6/6\n",
      "Loss: 0.5656266997506751\n",
      "Loss: 0.45616142118548697\n",
      "Loss: 0.4549692703182259\n",
      "Loss: 0.4821282238228156\n",
      "Loss: 0.42285927992335026\n",
      "Loss: 0.3860095099787232\n",
      "Loss: 0.29010479114860194\n",
      "Loss: 0.32335668881156115\n",
      "Loss: 0.3289993648153336\n"
     ]
    }
   ],
   "source": [
    "epochs = 6\n",
    "losses = []\n",
    "\n",
    "model.train()\n",
    "for epoch in range(epochs):\n",
    "    print(f\"Epoch {epoch+1}/{epochs}\")\n",
    "    \n",
    "    for batch_num, input_data in enumerate(train_loader):\n",
    "        optimizer.zero_grad()\n",
    "        x, y = input_data\n",
    "        x = x.to(device).float()\n",
    "        y = y.to(device).float().view(-1, 1)\n",
    "\n",
    "        output = model(x)\n",
    "        \n",
    "        loss = loss_function(output, y)\n",
    "        loss.backward()\n",
    "        losses.append(loss.item())\n",
    "\n",
    "        optimizer.step()\n",
    "        \n",
    "        if batch_num % 10 == 0:\n",
    "            print(f\"Loss: {loss.item() ** 0.5}\")\n",
    "\n",
    "        "
   ]
  },
  {
   "cell_type": "code",
   "execution_count": 54,
   "metadata": {},
   "outputs": [
    {
     "data": {
      "text/plain": [
       "[<matplotlib.lines.Line2D at 0x7f9678a3b820>]"
      ]
     },
     "execution_count": 54,
     "metadata": {},
     "output_type": "execute_result"
    },
    {
     "data": {
      "image/png": "[encoded data removed]",
      "text/plain": [
       "<Figure size 640x480 with 1 Axes>"
      ]
     },
     "metadata": {},
     "output_type": "display_data"
    }
   ],
   "source": [
    "plt.plot(losses)"
   ]
  },
  {
   "cell_type": "code",
   "execution_count": 55,
   "metadata": {},
   "outputs": [
    {
     "name": "stdout",
     "output_type": "stream",
     "text": [
      "Test loss: 0.8685421372526203\n"
     ]
    }
   ],
   "source": [
    "model.eval()\n",
    "\n",
    "test_X, test_y = test_set.get_all()\n",
    "\n",
    "test_predictions = model(test_X)\n",
    "\n",
    "loss = loss_function(test_predictions, test_y.view(-1, 1))\n",
    "\n",
    "print(f\"Test loss: {loss.item() ** 0.5}\")\n"
   ]
  }
 ],
 "metadata": {
  "kernelspec": {
   "display_name": "env",
   "language": "python",
   "name": "python3"
  },
  "language_info": {
   "codemirror_mode": {
    "name": "ipython",
    "version": 3
   },
   "file_extension": ".py",
   "mimetype": "text/x-python",
   "name": "python",
   "nbconvert_exporter": "python",
   "pygments_lexer": "ipython3",
   "version": "3.8.3"
  }
 },
 "nbformat": 4,
 "nbformat_minor": 2
}
