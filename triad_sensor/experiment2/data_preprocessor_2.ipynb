{
 "cells": [
  {
   "cell_type": "code",
   "execution_count": 50,
   "metadata": {},
   "outputs": [],
   "source": [
    "import os\n",
    "import numpy as np\n",
    "\n",
    "base = \"data/\"\n",
    "\n",
    "data_x_file = open(\"preprocessed_data_2/dataX.csv\", \"w\")\n",
    "data_y_file = open(\"preprocessed_data_2/dataY.csv\", \"w\")\n",
    "\n",
    "exclude = [\"1-mama.csv\", \"2-mama.csv\", \"3-mama.csv\"]\n",
    "\n",
    "mean_count = 3\n",
    "\n",
    "for filename in os.listdir(base): \n",
    "    \n",
    "    if filename in exclude:\n",
    "        continue\n",
    "    \n",
    "    with open(base + filename, \"r\") as f:\n",
    "        content = f.readlines()\n",
    "        entries = content[1:-2]\n",
    "        glucose_start = float(content[-2].replace(\"glucose_start:\", \"\").replace(\"\\n\", \"\"))\n",
    "        glucose_end = float(content[-1].replace(\"glucose_end:\", \"\").replace(\"\\n\", \"\"))\n",
    "        \n",
    "        first = [np.fromstring(entry.replace(\"\\n\", \"\"), sep=\",\") for entry in entries[:mean_count]]\n",
    "        first = np.squeeze(np.concatenate(first, axis=0).reshape(mean_count, -1).mean(axis=0))\n",
    "        first = ','.join(str(round(x, 2)) for x in first)\n",
    "        \n",
    "        data_x_file.write(first + \"\\n\")\n",
    "        data_y_file.write(str(glucose_start) + \"\\n\")\n",
    "        \n",
    "        last = [np.fromstring(entry.replace(\"\\n\", \"\"), sep=\",\") for entry in entries[len(entries)-mean_count:]]\n",
    "        last = np.squeeze(np.concatenate(last, axis=0).reshape(mean_count, -1).mean(axis=0))\n",
    "        last = ','.join(str(round(x, 2)) for x in last)\n",
    "        \n",
    "        data_x_file.write(last + \"\\n\")\n",
    "        data_y_file.write(str(glucose_end) + \"\\n\")\n",
    "\n",
    "data_x_file.close()\n",
    "data_y_file.close()\n",
    "\n"
   ]
  }
 ],
 "metadata": {
  "kernelspec": {
   "display_name": "env",
   "language": "python",
   "name": "python3"
  },
  "language_info": {
   "codemirror_mode": {
    "name": "ipython",
    "version": 3
   },
   "file_extension": ".py",
   "mimetype": "text/x-python",
   "name": "python",
   "nbconvert_exporter": "python",
   "pygments_lexer": "ipython3",
   "version": "3.8.3"
  }
 },
 "nbformat": 4,
 "nbformat_minor": 2
}
