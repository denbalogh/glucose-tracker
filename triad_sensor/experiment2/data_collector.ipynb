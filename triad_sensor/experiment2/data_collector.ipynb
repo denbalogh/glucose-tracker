{
 "cells": [
  {
   "cell_type": "code",
   "execution_count": 1,
   "metadata": {},
   "outputs": [],
   "source": [
    "import serial\n",
    "from datetime import datetime\n",
    "import os\n",
    "from IPython.display import clear_output\n",
    "\n",
    "base = \"data\"\n",
    "\n",
    "n_samples = 335 # 10 minutes\n"
   ]
  },
  {
   "cell_type": "code",
   "execution_count": 9,
   "metadata": {},
   "outputs": [],
   "source": [
    "arduino = serial.Serial(port='/dev/cu.usbserial-1430', baudrate=115200, timeout=.1)\n",
    "\n",
    "# Data collection setup\n",
    "\n",
    "batch_number = 1\n"
   ]
  },
  {
   "cell_type": "code",
   "execution_count": 10,
   "metadata": {},
   "outputs": [
    {
     "name": "stdout",
     "output_type": "stream",
     "text": [
      "Entry 0 added\n",
      "--- 1.7905542850494385 seconds ---\n"
     ]
    }
   ],
   "source": [
    "# import time\n",
    "# start_time = time.time()\n",
    "\n",
    "batch_path = os.path.join(base, str(batch_number) + '.csv')\n",
    "\n",
    "if os.path.exists(batch_path):\n",
    "    print(\"Batch already exists. Exiting.\")\n",
    "else:\n",
    "    print(\"Starting batch: \" + batch_path)\n",
    "    with open(batch_path, 'w') as f:\n",
    "        # Timestamp at the top of the file\n",
    "        f.write(str(datetime.now()) + '\\n')\n",
    "        for x in range(n_samples):\n",
    "            # Send get command to arduino\n",
    "            command = \"get:3,max\"\n",
    "            arduino.write(bytes(command, 'utf-8'))\n",
    "            while True:\n",
    "                # Wait until arduino sends data\n",
    "                if arduino.in_waiting > 0:\n",
    "                    line = arduino.readline()\n",
    "                    f.write(line.decode())\n",
    "                    # Log process\n",
    "                    clear_output(wait=True)\n",
    "                    print(f\"Entry {x} added\")\n",
    "                    break\n",
    "\n",
    "# print(\"--- %s seconds ---\" % (time.time() - start_time))\n"
   ]
  },
  {
   "cell_type": "code",
   "execution_count": 11,
   "metadata": {},
   "outputs": [],
   "source": [
    "glucose_start = 5.1\n",
    "glucose_end = 5.9\n",
    "\n",
    "with open(batch_path, 'a') as f:\n",
    "    f.write(f\"glucose_start:{glucose_start}\\n\")\n",
    "    f.write(f\"glucose_end:{glucose_end}\\n\")\n"
   ]
  }
 ],
 "metadata": {
  "kernelspec": {
   "display_name": "env",
   "language": "python",
   "name": "python3"
  },
  "language_info": {
   "codemirror_mode": {
    "name": "ipython",
    "version": 3
   },
   "file_extension": ".py",
   "mimetype": "text/x-python",
   "name": "python",
   "nbconvert_exporter": "python",
   "pygments_lexer": "ipython3",
   "version": "3.8.3"
  }
 },
 "nbformat": 4,
 "nbformat_minor": 2
}
