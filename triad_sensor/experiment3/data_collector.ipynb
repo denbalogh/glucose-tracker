{
 "cells": [
  {
   "cell_type": "code",
   "execution_count": 12,
   "metadata": {},
   "outputs": [],
   "source": [
    "import serial\n",
    "import os\n",
    "from IPython.display import clear_output\n",
    "\n",
    "base = \"data_max_integration_time/\"\n",
    "\n",
    "NO_LED = \"NO_LED/\"\n",
    "UV = \"UV/\"\n",
    "VIS = \"VIS/\"\n",
    "IR = \"IR/\"\n",
    "\n",
    "n_samples = 2\n"
   ]
  },
  {
   "cell_type": "code",
   "execution_count": 13,
   "metadata": {},
   "outputs": [],
   "source": [
    "arduino = serial.Serial(port='/dev/cu.usbserial-1420', baudrate=115200, timeout=.1)\n",
    "\n",
    "# Data collection setup\n",
    "\n",
    "batch_number = 29"
   ]
  },
  {
   "cell_type": "code",
   "execution_count": 14,
   "metadata": {},
   "outputs": [
    {
     "name": "stdout",
     "output_type": "stream",
     "text": [
      "Reading get:VIS... 2/2 samples\n"
     ]
    }
   ],
   "source": [
    "import time\n",
    "\n",
    "NO_LED_batch_path = os.path.join(base, NO_LED, f\"{str(batch_number)}.csv\")\n",
    "UV_batch_path = os.path.join(base, UV, f\"{str(batch_number)}.csv\")\n",
    "VIS_batch_path = os.path.join(base, VIS, f\"{str(batch_number)}.csv\")\n",
    "IR_batch_path = os.path.join(base, IR, f\"{str(batch_number)}.csv\")\n",
    "\n",
    "batches = [\n",
    "    {\"path\": NO_LED_batch_path, \"command\": \"get\"},\n",
    "    {\"path\": UV_batch_path, \"command\": \"get:UV\"}, \n",
    "    {\"path\": IR_batch_path, \"command\": \"get:IR\"}, \n",
    "    {\"path\": VIS_batch_path, \"command\": \"get:VIS\"}, \n",
    "]\n",
    "\n",
    "if os.path.exists(UV_batch_path) or os.path.exists(VIS_batch_path) or os.path.exists(IR_batch_path) or os.path.exists(NO_LED_batch_path):\n",
    "    print(\"Batch already exists. Exiting.\")\n",
    "else:\n",
    "    for batch in batches:\n",
    "        with open(batch[\"path\"], 'w') as f:\n",
    "            for x in range(n_samples):\n",
    "                clear_output(wait=True)\n",
    "                line = \"\"\n",
    "                arduino.write(bytes(batch[\"command\"], 'utf-8'))\n",
    "                while True:\n",
    "                    # Wait until arduino sends data\n",
    "                    if arduino.in_waiting > 0:\n",
    "                        line += arduino.readline().decode()\n",
    "                        # Log process\n",
    "                        print(f\"Reading {batch['command']}... {x+1}/{n_samples} samples\")\n",
    "                        break\n",
    "                f.write(line)\n",
    "                time.sleep(3) # Wait between samples to prevent overheating"
   ]
  },
  {
   "cell_type": "code",
   "execution_count": 15,
   "metadata": {},
   "outputs": [],
   "source": [
    "glucose_concentration = 7.1\n",
    "\n",
    "for batch in batches:\n",
    "    with open(batch[\"path\"], 'a') as f:\n",
    "        f.write(f\"glucose_concentration:{glucose_concentration}\\n\")"
   ]
  },
  {
   "cell_type": "markdown",
   "metadata": {},
   "source": [
    "#### Collecting samples in time"
   ]
  },
  {
   "cell_type": "code",
   "execution_count": 9,
   "metadata": {},
   "outputs": [
    {
     "name": "stdout",
     "output_type": "stream",
     "text": [
      "Sampling time: 1/30 minutes\n",
      "Reading get:UV... 1/2 samples\n",
      "Reading get:UV... 2/2 samples\n",
      "Reading get:IR... 1/2 samples\n",
      "Reading get:IR... 2/2 samples\n",
      "Reading get:VIS... 1/2 samples\n",
      "Reading get:VIS... 2/2 samples\n",
      "Waiting 1 minute for next sample\n",
      "Sampling time: 2/30 minutes\n",
      "Reading get:UV... 1/2 samples\n",
      "Reading get:UV... 2/2 samples\n",
      "Reading get:IR... 1/2 samples\n",
      "Reading get:IR... 2/2 samples\n",
      "Reading get:VIS... 1/2 samples\n",
      "Reading get:VIS... 2/2 samples\n",
      "Waiting 1 minute for next sample\n"
     ]
    },
    {
     "ename": "KeyboardInterrupt",
     "evalue": "",
     "output_type": "error",
     "traceback": [
      "\u001b[0;31m---------------------------------------------------------------------------\u001b[0m",
      "\u001b[0;31mKeyboardInterrupt\u001b[0m                         Traceback (most recent call last)",
      "Cell \u001b[0;32mIn[9], line 37\u001b[0m\n\u001b[1;32m     34\u001b[0m             time\u001b[38;5;241m.\u001b[39msleep(\u001b[38;5;241m3\u001b[39m) \u001b[38;5;66;03m# Wait between samples to prevent overheating\u001b[39;00m\n\u001b[1;32m     36\u001b[0m \u001b[38;5;28mprint\u001b[39m(\u001b[38;5;124m\"\u001b[39m\u001b[38;5;124mWaiting 1 minute for next sample\u001b[39m\u001b[38;5;124m\"\u001b[39m)\n\u001b[0;32m---> 37\u001b[0m \u001b[43mtime\u001b[49m\u001b[38;5;241;43m.\u001b[39;49m\u001b[43msleep\u001b[49m\u001b[43m(\u001b[49m\u001b[38;5;241;43m60\u001b[39;49m\u001b[43m)\u001b[49m \u001b[38;5;66;03m# Wait 1 minute between samples\u001b[39;00m\n",
      "\u001b[0;31mKeyboardInterrupt\u001b[0m: "
     ]
    }
   ],
   "source": [
    "import time\n",
    "\n",
    "final_base = \"final_evaluation_data/\"\n",
    "num_samples = 2\n",
    "sampling_time = 30\n",
    "\n",
    "UV_final_path = os.path.join(final_base, \"UV.csv\")\n",
    "VIS_final_path = os.path.join(final_base, \"VIS.csv\")\n",
    "IR_final_path = os.path.join(final_base, \"IR.csv\")\n",
    "\n",
    "batches = [\n",
    "    {\"path\": UV_final_path, \"command\": \"get:UV\"}, \n",
    "    {\"path\": IR_final_path, \"command\": \"get:IR\"}, \n",
    "    {\"path\": VIS_final_path, \"command\": \"get:VIS\"}, \n",
    "]\n",
    "\n",
    "for curr_time in range(sampling_time):\n",
    "    print(f\"Sampling time: {curr_time+1}/{sampling_time} minutes\")\n",
    "    \n",
    "    for batch in batches:\n",
    "        with open(batch[\"path\"], 'a') as f:\n",
    "            for x in range(num_samples):\n",
    "                # clear_output(wait=True)\n",
    "                line = \"\"\n",
    "                arduino.write(bytes(batch[\"command\"], 'utf-8'))\n",
    "                while True:\n",
    "                    # Wait until arduino sends data\n",
    "                    if arduino.in_waiting > 0:\n",
    "                        line += arduino.readline().decode()\n",
    "                        # Log process\n",
    "                        print(f\"Reading {batch['command']}... {x+1}/{n_samples} samples\")\n",
    "                        break\n",
    "                f.write(line)\n",
    "                time.sleep(3) # Wait between samples to prevent overheating\n",
    "                \n",
    "    print(\"Waiting 1 minute for next sample\")\n",
    "    time.sleep(60) # Wait 1 minute between samples"
   ]
  }
 ],
 "metadata": {
  "kernelspec": {
   "display_name": "env",
   "language": "python",
   "name": "python3"
  },
  "language_info": {
   "codemirror_mode": {
    "name": "ipython",
    "version": 3
   },
   "file_extension": ".py",
   "mimetype": "text/x-python",
   "name": "python",
   "nbconvert_exporter": "python",
   "pygments_lexer": "ipython3",
   "version": "3.8.3"
  }
 },
 "nbformat": 4,
 "nbformat_minor": 2
}
