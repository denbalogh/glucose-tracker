{
 "cells": [
  {
   "cell_type": "code",
   "execution_count": 33,
   "metadata": {},
   "outputs": [],
   "source": [
    "import serial\n",
    "import os\n",
    "from IPython.display import clear_output\n",
    "\n",
    "base = \"data_max_integration_time/\"\n",
    "\n",
    "NO_LED = \"NO_LED/\"\n",
    "UV = \"UV/\"\n",
    "VIS = \"VIS/\"\n",
    "IR = \"IR/\"\n",
    "\n",
    "n_samples = 2\n"
   ]
  },
  {
   "cell_type": "code",
   "execution_count": 34,
   "metadata": {},
   "outputs": [],
   "source": [
    "arduino = serial.Serial(port='/dev/cu.usbserial-1420', baudrate=115200, timeout=.1)\n",
    "\n",
    "# Data collection setup\n",
    "\n",
    "batch_number = 14"
   ]
  },
  {
   "cell_type": "code",
   "execution_count": 35,
   "metadata": {},
   "outputs": [
    {
     "name": "stdout",
     "output_type": "stream",
     "text": [
      "Reading get:VIS... 2/2 samples\n"
     ]
    }
   ],
   "source": [
    "import time\n",
    "\n",
    "NO_LED_batch_path = os.path.join(base, NO_LED, f\"{str(batch_number)}.csv\")\n",
    "UV_batch_path = os.path.join(base, UV, f\"{str(batch_number)}.csv\")\n",
    "VIS_batch_path = os.path.join(base, VIS, f\"{str(batch_number)}.csv\")\n",
    "IR_batch_path = os.path.join(base, IR, f\"{str(batch_number)}.csv\")\n",
    "\n",
    "batches = [\n",
    "    {\"path\": NO_LED_batch_path, \"command\": \"get\"},\n",
    "    {\"path\": UV_batch_path, \"command\": \"get:UV\"}, \n",
    "    {\"path\": IR_batch_path, \"command\": \"get:IR\"}, \n",
    "    {\"path\": VIS_batch_path, \"command\": \"get:VIS\"}, \n",
    "]\n",
    "\n",
    "if os.path.exists(UV_batch_path) or os.path.exists(VIS_batch_path) or os.path.exists(IR_batch_path) or os.path.exists(NO_LED_batch_path):\n",
    "    print(\"Batch already exists. Exiting.\")\n",
    "else:\n",
    "    for batch in batches:\n",
    "        with open(batch[\"path\"], 'w') as f:\n",
    "            for x in range(n_samples):\n",
    "                clear_output(wait=True)\n",
    "                line = \"\"\n",
    "                arduino.write(bytes(batch[\"command\"], 'utf-8'))\n",
    "                while True:\n",
    "                    # Wait until arduino sends data\n",
    "                    if arduino.in_waiting > 0:\n",
    "                        line += arduino.readline().decode()\n",
    "                        # Log process\n",
    "                        print(f\"Reading {batch['command']}... {x+1}/{n_samples} samples\")\n",
    "                        break\n",
    "                f.write(line)\n",
    "                time.sleep(3) # Wait between samples to prevent overheating"
   ]
  },
  {
   "cell_type": "code",
   "execution_count": 36,
   "metadata": {},
   "outputs": [],
   "source": [
    "glucose_concentration = 8.5\n",
    "\n",
    "for batch in batches:\n",
    "    with open(batch[\"path\"], 'a') as f:\n",
    "        f.write(f\"glucose_concentration:{glucose_concentration}\\n\")"
   ]
  }
 ],
 "metadata": {
  "kernelspec": {
   "display_name": "env",
   "language": "python",
   "name": "python3"
  },
  "language_info": {
   "codemirror_mode": {
    "name": "ipython",
    "version": 3
   },
   "file_extension": ".py",
   "mimetype": "text/x-python",
   "name": "python",
   "nbconvert_exporter": "python",
   "pygments_lexer": "ipython3",
   "version": "3.8.3"
  }
 },
 "nbformat": 4,
 "nbformat_minor": 2
}
