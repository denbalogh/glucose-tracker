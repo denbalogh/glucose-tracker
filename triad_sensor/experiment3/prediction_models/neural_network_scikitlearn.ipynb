{
 "cells": [
  {
   "cell_type": "code",
   "execution_count": 1,
   "metadata": {},
   "outputs": [],
   "source": [
    "import numpy as np\n",
    "from sklearn.neural_network import MLPRegressor\n",
    "from sklearn.model_selection import GridSearchCV\n",
    "\n",
    "save_base = \"../preprocessed_data/\"\n"
   ]
  },
  {
   "cell_type": "code",
   "execution_count": 2,
   "metadata": {},
   "outputs": [
    {
     "name": "stdout",
     "output_type": "stream",
     "text": [
      "Fitting 7 folds for each of 6 candidates, totalling 42 fits\n"
     ]
    },
    {
     "name": "stdout",
     "output_type": "stream",
     "text": [
      "{'activation': 'tanh', 'alpha': 0.0001, 'hidden_layer_sizes': (1024, 256), 'learning_rate': 'adaptive', 'max_iter': 900} -2.0971123570235966\n"
     ]
    }
   ],
   "source": [
    "UV_x = np.loadtxt(save_base + \"UV_x_scaled.csv\", delimiter=',')\n",
    "y = np.loadtxt(save_base + \"y.csv\", delimiter=',')\n",
    "\n",
    "parameters = {\n",
    "    'hidden_layer_sizes': [(1024, 256)],\n",
    "    'activation': ['relu', 'tanh'],\n",
    "    'max_iter': [700, 800, 900],\n",
    "    'learning_rate': ['adaptive'],\n",
    "    'alpha': [0.0001],\n",
    "}\n",
    "\n",
    "UV_nn = MLPRegressor()\n",
    "UV_regr = GridSearchCV(UV_nn, parameters, scoring='neg_root_mean_squared_error', cv=7, n_jobs=-1, verbose=1)\n",
    "UV_regr.fit(UV_x, y)\n",
    "\n",
    "print(UV_regr.best_params_, UV_regr.best_score_)"
   ]
  },
  {
   "cell_type": "code",
   "execution_count": 51,
   "metadata": {},
   "outputs": [
    {
     "name": "stdout",
     "output_type": "stream",
     "text": [
      "Fitting 7 folds for each of 12 candidates, totalling 84 fits\n",
      "{'activation': 'tanh', 'alpha': 0.0001, 'hidden_layer_sizes': (1024, 256), 'learning_rate': 'adaptive', 'max_iter': 800} -1.7286441804310775\n"
     ]
    }
   ],
   "source": [
    "VIS_x = np.loadtxt(save_base + \"VIS_x_scaled.csv\", delimiter=',')\n",
    "y = np.loadtxt(save_base + \"y.csv\", delimiter=',')\n",
    "\n",
    "parameters = {\n",
    "    'hidden_layer_sizes': [(1024, 256)],\n",
    "    'activation': ['relu', 'tanh'],\n",
    "    'max_iter': [700, 800, 900],\n",
    "    'learning_rate': ['adaptive'],\n",
    "    'alpha': [0.0001],\n",
    "}\n",
    "\n",
    "VIS_nn = MLPRegressor(early_stopping=True)\n",
    "VIS_regr = GridSearchCV(VIS_nn, parameters, scoring='neg_root_mean_squared_error', cv=7, n_jobs=-1, verbose=1)\n",
    "VIS_regr.fit(VIS_x, y)\n",
    "\n",
    "print(VIS_regr.best_params_, VIS_regr.best_score_)"
   ]
  },
  {
   "cell_type": "code",
   "execution_count": 52,
   "metadata": {},
   "outputs": [
    {
     "name": "stdout",
     "output_type": "stream",
     "text": [
      "Fitting 7 folds for each of 6 candidates, totalling 42 fits\n",
      "{'activation': 'tanh', 'alpha': 0.0001, 'hidden_layer_sizes': (1024, 256), 'learning_rate': 'adaptive', 'max_iter': 800} -1.7206340549277088\n"
     ]
    }
   ],
   "source": [
    "IR_x = np.loadtxt(save_base + \"IR_x_scaled.csv\", delimiter=',')\n",
    "y = np.loadtxt(save_base + \"y.csv\", delimiter=',')\n",
    "\n",
    "parameters = {\n",
    "    'hidden_layer_sizes': [(1024, 256)],\n",
    "    'activation': ['relu', 'tanh'],\n",
    "    'max_iter': [700, 800, 900],\n",
    "    'learning_rate': ['adaptive'],\n",
    "    'alpha': [0.0001],\n",
    "}\n",
    "\n",
    "IR_nn = MLPRegressor(early_stopping=True)\n",
    "IR_regr = GridSearchCV(IR_nn, parameters, scoring='neg_root_mean_squared_error', cv=7, n_jobs=-1, verbose=1)\n",
    "IR_regr.fit(IR_x, y)\n",
    "\n",
    "print(IR_regr.best_params_, IR_regr.best_score_)"
   ]
  }
 ],
 "metadata": {
  "kernelspec": {
   "display_name": "env",
   "language": "python",
   "name": "python3"
  },
  "language_info": {
   "codemirror_mode": {
    "name": "ipython",
    "version": 3
   },
   "file_extension": ".py",
   "mimetype": "text/x-python",
   "name": "python",
   "nbconvert_exporter": "python",
   "pygments_lexer": "ipython3",
   "version": "3.8.3"
  }
 },
 "nbformat": 4,
 "nbformat_minor": 2
}
