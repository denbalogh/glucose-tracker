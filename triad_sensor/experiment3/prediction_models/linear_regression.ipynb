{
 "cells": [
  {
   "cell_type": "code",
   "execution_count": 26,
   "metadata": {},
   "outputs": [],
   "source": [
    "import numpy as np\n",
    "from sklearn.linear_model import LinearRegression\n",
    "from sklearn.metrics import mean_squared_error\n",
    "from sklearn.model_selection import cross_val_score\n",
    "\n",
    "save_base = \"../preprocessed_data/\"\n",
    "train_base = save_base + \"train/\"\n",
    "test_base = save_base + \"test/\"\n"
   ]
  },
  {
   "cell_type": "code",
   "execution_count": 34,
   "metadata": {},
   "outputs": [
    {
     "data": {
      "text/plain": [
       "-1.199973413854226"
      ]
     },
     "execution_count": 34,
     "metadata": {},
     "output_type": "execute_result"
    }
   ],
   "source": [
    "indices = [1]\n",
    "\n",
    "UV_train_x = np.loadtxt(train_base + \"UV_x.csv\", delimiter=',')\n",
    "train_y = np.loadtxt(train_base + \"y.csv\", delimiter=',')\n",
    "\n",
    "UV_test_x = np.loadtxt(test_base + \"UV_x.csv\", delimiter=',')\n",
    "test_y = np.loadtxt(test_base + \"y.csv\", delimiter=',')\n",
    "\n",
    "linear_regr = LinearRegression()\n",
    "\n",
    "cross_val_score(linear_regr, UV_train_x[:, indices], train_y, cv=7, scoring='neg_root_mean_squared_error').mean()\n",
    "\n",
    "# mean_squared_error(test_y, linear_regr.predict(UV_test_x[:, indices]), squared=False)"
   ]
  },
  {
   "cell_type": "code",
   "execution_count": 77,
   "metadata": {},
   "outputs": [
    {
     "data": {
      "text/plain": [
       "-1.1241782682811803"
      ]
     },
     "execution_count": 77,
     "metadata": {},
     "output_type": "execute_result"
    }
   ],
   "source": [
    "indices = [1, 4]\n",
    "\n",
    "VIS_train_x = np.loadtxt(train_base + \"VIS_x.csv\", delimiter=',')\n",
    "train_y = np.loadtxt(train_base + \"y.csv\", delimiter=',')\n",
    "\n",
    "VIS_test_x = np.loadtxt(test_base + \"VIS_x.csv\", delimiter=',')\n",
    "test_y = np.loadtxt(test_base + \"y.csv\", delimiter=',')\n",
    "\n",
    "linear_regr = LinearRegression()\n",
    "\n",
    "cross_val_score(linear_regr, VIS_train_x[:, indices], train_y, cv=7, scoring='neg_root_mean_squared_error').mean()\n",
    "\n",
    "# mean_squared_error(test_y, linear_regr.predict(VIS_test_x[:, indices]), squared=False)"
   ]
  },
  {
   "cell_type": "code",
   "execution_count": 72,
   "metadata": {},
   "outputs": [
    {
     "data": {
      "text/plain": [
       "-1.1734683493188052"
      ]
     },
     "execution_count": 72,
     "metadata": {},
     "output_type": "execute_result"
    }
   ],
   "source": [
    "indices = [17]\n",
    "\n",
    "IR_train_x = np.loadtxt(train_base + \"IR_x.csv\", delimiter=',')\n",
    "train_y = np.loadtxt(train_base + \"y.csv\", delimiter=',')\n",
    "\n",
    "IR_test_x = np.loadtxt(test_base + \"IR_x.csv\", delimiter=',')\n",
    "test_y = np.loadtxt(test_base + \"y.csv\", delimiter=',')\n",
    "\n",
    "linear_regr = LinearRegression()\n",
    "\n",
    "cross_val_score(linear_regr, IR_train_x[:, indices], train_y, cv=7, scoring='neg_root_mean_squared_error').mean()\n",
    "\n",
    "# mean_squared_error(test_y, linear_regr.predict(IR_test_x[:, indices]), squared=False)"
   ]
  }
 ],
 "metadata": {
  "kernelspec": {
   "display_name": "env",
   "language": "python",
   "name": "python3"
  },
  "language_info": {
   "codemirror_mode": {
    "name": "ipython",
    "version": 3
   },
   "file_extension": ".py",
   "mimetype": "text/x-python",
   "name": "python",
   "nbconvert_exporter": "python",
   "pygments_lexer": "ipython3",
   "version": "3.8.3"
  }
 },
 "nbformat": 4,
 "nbformat_minor": 2
}
