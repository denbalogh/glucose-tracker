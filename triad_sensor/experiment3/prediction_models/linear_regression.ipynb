{
 "cells": [
  {
   "cell_type": "code",
   "execution_count": 1,
   "metadata": {},
   "outputs": [],
   "source": [
    "import numpy as np\n",
    "from sklearn.linear_model import LinearRegression\n",
    "from sklearn.model_selection import cross_val_score\n",
    "from joblib import dump\n",
    "\n",
    "save_base = \"../preprocessed_data/\"\n",
    "models_base = \"./models/\"\n",
    "\n",
    "channels = [\"410nm\", \"435nm\", \"460nm\", \"485nm\", \"510nm\", \"535nm\", \"560nm\",\"585nm\",\"610nm\",\"645nm\",\"680nm\",\"705nm\",\"730nm\",\"760nm\",\"810nm\",\"860nm\",\"900nm\",\"940nm\"]\n"
   ]
  },
  {
   "cell_type": "code",
   "execution_count": 8,
   "metadata": {},
   "outputs": [
    {
     "name": "stdout",
     "output_type": "stream",
     "text": [
      "410nm, 460nm, 485nm, 560nm, 585nm, 610nm, 680nm, 730nm\n"
     ]
    }
   ],
   "source": [
    "UV_indices = [0, 2, 3, 6, 7, 8, 10, 12]\n",
    "\n",
    "print(\", \".join(list(map(lambda x: channels[x], UV_indices))))"
   ]
  },
  {
   "cell_type": "code",
   "execution_count": 9,
   "metadata": {},
   "outputs": [
    {
     "name": "stdout",
     "output_type": "stream",
     "text": [
      "410nm, 460nm, 535nm, 560nm, 610nm, 760nm, 810nm\n"
     ]
    }
   ],
   "source": [
    "VIS_indices = [0, 2, 5, 6, 8, 13, 14]\n",
    "\n",
    "print(\", \".join(list(map(lambda x: channels[x], VIS_indices))))"
   ]
  },
  {
   "cell_type": "code",
   "execution_count": 11,
   "metadata": {},
   "outputs": [
    {
     "name": "stdout",
     "output_type": "stream",
     "text": [
      "410nm, 435nm, 460nm, 485nm, 510nm, 560nm, 585nm, 610nm, 645nm, 680nm, 810nm, 860nm, 900nm\n"
     ]
    }
   ],
   "source": [
    "IR_indices = [0, 1, 2, 3, 4, 6, 7, 8, 9, 10, 14, 15, 16]\n",
    "\n",
    "print(\", \".join(list(map(lambda x: channels[x], IR_indices))))"
   ]
  },
  {
   "cell_type": "code",
   "execution_count": 128,
   "metadata": {},
   "outputs": [
    {
     "name": "stdout",
     "output_type": "stream",
     "text": [
      "-1.5876166057407963\n"
     ]
    }
   ],
   "source": [
    "UV_indices = [0, 2, 3, 6, 7, 8, 10, 12]\n",
    "\n",
    "UV_x = np.loadtxt(save_base + \"UV_x.csv\", delimiter=',')\n",
    "y = np.loadtxt(save_base + \"y.csv\", delimiter=',')\n",
    "\n",
    "linear_regr = LinearRegression()\n",
    "\n",
    "score = cross_val_score(linear_regr, UV_x[:, UV_indices], y, cv=7, scoring='neg_root_mean_squared_error').mean()\n",
    "\n",
    "linear_regr.fit(UV_x[:, UV_indices], y)\n",
    "dump(linear_regr, models_base + \"UV_linear_regr.joblib\")\n",
    "\n",
    "print(score)"
   ]
  },
  {
   "cell_type": "code",
   "execution_count": 159,
   "metadata": {},
   "outputs": [
    {
     "name": "stdout",
     "output_type": "stream",
     "text": [
      "-1.970213404686507\n"
     ]
    }
   ],
   "source": [
    "VIS_indices = [0, 2, 5, 6, 8, 13, 14]\n",
    "\n",
    "VIS_x = np.loadtxt(save_base + \"VIS_x.csv\", delimiter=',')\n",
    "y = np.loadtxt(save_base + \"y.csv\", delimiter=',')\n",
    "\n",
    "linear_regr = LinearRegression()\n",
    "\n",
    "score = cross_val_score(linear_regr, VIS_x[:, VIS_indices], y, cv=7, scoring='neg_root_mean_squared_error').mean()\n",
    "\n",
    "linear_regr.fit(VIS_x[:, VIS_indices], y)\n",
    "dump(linear_regr, models_base + \"VIS_linear_regr.joblib\")\n",
    "\n",
    "print(score)\n"
   ]
  },
  {
   "cell_type": "code",
   "execution_count": 3,
   "metadata": {},
   "outputs": [
    {
     "name": "stdout",
     "output_type": "stream",
     "text": [
      "-1.6365192641382955\n"
     ]
    }
   ],
   "source": [
    "IR_indices = [0, 1, 2, 3, 4, 6, 7, 8, 9, 10, 14, 15, 16, 18]\n",
    "\n",
    "IR_x = np.loadtxt(save_base + \"IR_x.csv\", delimiter=',')\n",
    "y = np.loadtxt(save_base + \"y.csv\", delimiter=',')\n",
    "\n",
    "linear_regr = LinearRegression()\n",
    "\n",
    "score = cross_val_score(linear_regr, IR_x[:, IR_indices], y, cv=7, scoring='neg_root_mean_squared_error').mean()\n",
    "\n",
    "linear_regr.fit(IR_x[:, IR_indices], y)\n",
    "dump(linear_regr, models_base + \"IR_linear_regr.joblib\")\n",
    "\n",
    "print(score)"
   ]
  },
  {
   "cell_type": "code",
   "execution_count": 4,
   "metadata": {},
   "outputs": [
    {
     "name": "stdout",
     "output_type": "stream",
     "text": [
      "-1.872115028827283\n"
     ]
    }
   ],
   "source": [
    "IR_indices = [10, 11, 16, 17]\n",
    "\n",
    "IR_x = np.loadtxt(save_base + \"IR_x.csv\", delimiter=',')\n",
    "y = np.loadtxt(save_base + \"y.csv\", delimiter=',')\n",
    "\n",
    "linear_regr = LinearRegression()\n",
    "\n",
    "score = cross_val_score(linear_regr, IR_x[:, IR_indices], y, cv=7, scoring='neg_root_mean_squared_error').mean()\n",
    "\n",
    "linear_regr.fit(IR_x[:, IR_indices], y)\n",
    "dump(linear_regr, models_base + \"IR_linear_regr_best_channels.joblib\")\n",
    "\n",
    "print(score)"
   ]
  }
 ],
 "metadata": {
  "kernelspec": {
   "display_name": "env",
   "language": "python",
   "name": "python3"
  },
  "language_info": {
   "codemirror_mode": {
    "name": "ipython",
    "version": 3
   },
   "file_extension": ".py",
   "mimetype": "text/x-python",
   "name": "python",
   "nbconvert_exporter": "python",
   "pygments_lexer": "ipython3",
   "version": "3.8.3"
  }
 },
 "nbformat": 4,
 "nbformat_minor": 2
}
