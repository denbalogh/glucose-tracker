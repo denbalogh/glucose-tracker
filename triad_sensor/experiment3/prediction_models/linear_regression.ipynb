{
 "cells": [
  {
   "cell_type": "code",
   "execution_count": 90,
   "metadata": {},
   "outputs": [],
   "source": [
    "import numpy as np\n",
    "from sklearn.linear_model import LinearRegression\n",
    "from sklearn.model_selection import cross_val_score\n",
    "from joblib import dump\n",
    "\n",
    "save_base = \"../preprocessed_data/\"\n",
    "models_base = \"./models/\"\n",
    "\n",
    "UV_indices = [0, 1]\n",
    "VIS_indices = [1, 2, 3, 4, 5, 12, 13]\n",
    "IR_indices = [10, 11, 16, 17]\n"
   ]
  },
  {
   "cell_type": "code",
   "execution_count": 91,
   "metadata": {},
   "outputs": [
    {
     "name": "stdout",
     "output_type": "stream",
     "text": [
      "-1.9586567253530625\n"
     ]
    }
   ],
   "source": [
    "\n",
    "UV_x = np.loadtxt(save_base + \"UV_x.csv\", delimiter=',')\n",
    "y = np.loadtxt(save_base + \"y.csv\", delimiter=',')\n",
    "\n",
    "linear_regr = LinearRegression()\n",
    "\n",
    "score = cross_val_score(linear_regr, UV_x[:, UV_indices], y, cv=7, scoring='neg_root_mean_squared_error').mean()\n",
    "\n",
    "linear_regr.fit(UV_x[:, UV_indices], y)\n",
    "dump(linear_regr, models_base + \"UV_linear_regr.joblib\")\n",
    "\n",
    "print(score)"
   ]
  },
  {
   "cell_type": "code",
   "execution_count": 92,
   "metadata": {},
   "outputs": [
    {
     "name": "stdout",
     "output_type": "stream",
     "text": [
      "-2.1525593881876106\n"
     ]
    }
   ],
   "source": [
    "\n",
    "VIS_x = np.loadtxt(save_base + \"VIS_x.csv\", delimiter=',')\n",
    "y = np.loadtxt(save_base + \"y.csv\", delimiter=',')\n",
    "\n",
    "linear_regr = LinearRegression()\n",
    "\n",
    "score = cross_val_score(linear_regr, VIS_x[:, VIS_indices], y, cv=7, scoring='neg_root_mean_squared_error').mean()\n",
    "\n",
    "linear_regr.fit(VIS_x[:, VIS_indices], y)\n",
    "dump(linear_regr, models_base + \"VIS_linear_regr.joblib\")\n",
    "\n",
    "print(score)\n"
   ]
  },
  {
   "cell_type": "code",
   "execution_count": 97,
   "metadata": {},
   "outputs": [
    {
     "name": "stdout",
     "output_type": "stream",
     "text": [
      "-1.872115028827283\n"
     ]
    }
   ],
   "source": [
    "\n",
    "IR_x = np.loadtxt(save_base + \"IR_x.csv\", delimiter=',')\n",
    "y = np.loadtxt(save_base + \"y.csv\", delimiter=',')\n",
    "\n",
    "linear_regr = LinearRegression()\n",
    "\n",
    "score = cross_val_score(linear_regr, IR_x[:, IR_indices], y, cv=7, scoring='neg_root_mean_squared_error').mean()\n",
    "\n",
    "linear_regr.fit(IR_x[:, IR_indices], y)\n",
    "dump(linear_regr, models_base + \"IR_linear_regr.joblib\")\n",
    "\n",
    "print(score)"
   ]
  }
 ],
 "metadata": {
  "kernelspec": {
   "display_name": "env",
   "language": "python",
   "name": "python3"
  },
  "language_info": {
   "codemirror_mode": {
    "name": "ipython",
    "version": 3
   },
   "file_extension": ".py",
   "mimetype": "text/x-python",
   "name": "python",
   "nbconvert_exporter": "python",
   "pygments_lexer": "ipython3",
   "version": "3.8.3"
  }
 },
 "nbformat": 4,
 "nbformat_minor": 2
}
