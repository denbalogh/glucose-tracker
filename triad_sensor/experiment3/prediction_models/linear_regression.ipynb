{
 "cells": [
  {
   "cell_type": "code",
   "execution_count": 6,
   "metadata": {},
   "outputs": [],
   "source": [
    "import numpy as np\n",
    "from sklearn.linear_model import LinearRegression\n",
    "from sklearn.model_selection import cross_val_score\n",
    "from joblib import dump\n",
    "\n",
    "save_base = \"../preprocessed_data/\"\n"
   ]
  },
  {
   "cell_type": "code",
   "execution_count": 7,
   "metadata": {},
   "outputs": [
    {
     "data": {
      "text/plain": [
       "['UV_linear_regr.joblib']"
      ]
     },
     "execution_count": 7,
     "metadata": {},
     "output_type": "execute_result"
    }
   ],
   "source": [
    "UV_indices = [1]\n",
    "\n",
    "UV_x = np.loadtxt(save_base + \"UV_x.csv\", delimiter=',')\n",
    "y = np.loadtxt(save_base + \"y.csv\", delimiter=',')\n",
    "\n",
    "linear_regr = LinearRegression()\n",
    "\n",
    "cross_val_score(linear_regr, UV_x[:, UV_indices], y, cv=7, scoring='neg_root_mean_squared_error').mean()\n",
    "\n",
    "linear_regr.fit(UV_x[:, UV_indices], y)\n",
    "dump(linear_regr, \"UV_linear_regr.joblib\")"
   ]
  },
  {
   "cell_type": "code",
   "execution_count": 8,
   "metadata": {},
   "outputs": [
    {
     "data": {
      "text/plain": [
       "['VIS_linear_regr.joblib']"
      ]
     },
     "execution_count": 8,
     "metadata": {},
     "output_type": "execute_result"
    }
   ],
   "source": [
    "VIS_indices = [4, 5]\n",
    "\n",
    "VIS_x = np.loadtxt(save_base + \"VIS_x.csv\", delimiter=',')\n",
    "y = np.loadtxt(save_base + \"y.csv\", delimiter=',')\n",
    "\n",
    "linear_regr = LinearRegression()\n",
    "\n",
    "cross_val_score(linear_regr, VIS_x[:, VIS_indices], y, cv=7, scoring='neg_root_mean_squared_error').mean()\n",
    "\n",
    "linear_regr.fit(VIS_x[:, VIS_indices], y)\n",
    "dump(linear_regr, \"VIS_linear_regr.joblib\")\n"
   ]
  },
  {
   "cell_type": "code",
   "execution_count": 9,
   "metadata": {},
   "outputs": [
    {
     "data": {
      "text/plain": [
       "['IR_linear_regr.joblib']"
      ]
     },
     "execution_count": 9,
     "metadata": {},
     "output_type": "execute_result"
    }
   ],
   "source": [
    "IR_indices = [17]\n",
    "\n",
    "IR_x = np.loadtxt(save_base + \"IR_x.csv\", delimiter=',')\n",
    "y = np.loadtxt(save_base + \"y.csv\", delimiter=',')\n",
    "\n",
    "linear_regr = LinearRegression()\n",
    "\n",
    "cross_val_score(linear_regr, IR_x[:, IR_indices], y, cv=7, scoring='neg_root_mean_squared_error').mean()\n",
    "\n",
    "linear_regr.fit(IR_x[:, IR_indices], y)\n",
    "dump(linear_regr, \"IR_linear_regr.joblib\")"
   ]
  },
  {
   "cell_type": "code",
   "execution_count": 62,
   "metadata": {},
   "outputs": [
    {
     "data": {
      "text/plain": [
       "-1.5035873257899486"
      ]
     },
     "execution_count": 62,
     "metadata": {},
     "output_type": "execute_result"
    }
   ],
   "source": [
    "ALL_x = np.hstack((UV_x[:, UV_indices], VIS_x[:, VIS_indices], IR_x[:, IR_indices]))\n",
    "\n",
    "linear_regr = LinearRegression()\n",
    "\n",
    "cross_val_score(linear_regr, ALL_x, y, cv=7, scoring='neg_root_mean_squared_error').mean()"
   ]
  }
 ],
 "metadata": {
  "kernelspec": {
   "display_name": "env",
   "language": "python",
   "name": "python3"
  },
  "language_info": {
   "codemirror_mode": {
    "name": "ipython",
    "version": 3
   },
   "file_extension": ".py",
   "mimetype": "text/x-python",
   "name": "python",
   "nbconvert_exporter": "python",
   "pygments_lexer": "ipython3",
   "version": "3.8.3"
  }
 },
 "nbformat": 4,
 "nbformat_minor": 2
}
