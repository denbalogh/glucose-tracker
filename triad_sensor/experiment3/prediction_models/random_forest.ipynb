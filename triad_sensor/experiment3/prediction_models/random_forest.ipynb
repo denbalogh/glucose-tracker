{
 "cells": [
  {
   "cell_type": "code",
   "execution_count": 1,
   "metadata": {},
   "outputs": [],
   "source": [
    "import numpy as np\n",
    "from sklearn.ensemble import RandomForestRegressor\n",
    "from sklearn.model_selection import GridSearchCV\n",
    "from joblib import dump\n",
    "\n",
    "save_base = \"../preprocessed_data/\"\n",
    "models_base = \"./models/\"\n"
   ]
  },
  {
   "cell_type": "code",
   "execution_count": 2,
   "metadata": {},
   "outputs": [
    {
     "name": "stdout",
     "output_type": "stream",
     "text": [
      "Fitting 7 folds for each of 720 candidates, totalling 5040 fits\n",
      "{'max_depth': 15, 'min_samples_leaf': 2, 'min_samples_split': 20, 'n_estimators': 10} -1.766901570296046\n"
     ]
    }
   ],
   "source": [
    "UV_x = np.loadtxt(save_base + \"UV_x.csv\", delimiter=',')\n",
    "y = np.loadtxt(save_base + \"y.csv\", delimiter=',')\n",
    "\n",
    "parameters = {\n",
    "    'n_estimators': [5, 10, 30, 50],\n",
    "    'max_depth': [2, 5, 10, 15, 20],\n",
    "    'min_samples_split': [2, 5, 10, 15, 20, 30],\n",
    "    'min_samples_leaf': [2, 5, 10, 15, 20, 30],\n",
    "}\n",
    "\n",
    "UV_forest = RandomForestRegressor()\n",
    "UV_regr = GridSearchCV(UV_forest, parameters, scoring='neg_root_mean_squared_error', cv=7, n_jobs=-1, verbose=1)\n",
    "UV_regr.fit(UV_x, y)\n",
    "\n",
    "print(UV_regr.best_params_, UV_regr.best_score_)"
   ]
  },
  {
   "cell_type": "code",
   "execution_count": 3,
   "metadata": {},
   "outputs": [
    {
     "name": "stdout",
     "output_type": "stream",
     "text": [
      "RandomForestRegressor(max_depth=15, min_samples_leaf=2, min_samples_split=20,\n",
      "                      n_estimators=10)\n"
     ]
    }
   ],
   "source": [
    "print(UV_regr.best_estimator_)"
   ]
  },
  {
   "cell_type": "code",
   "execution_count": 4,
   "metadata": {},
   "outputs": [
    {
     "data": {
      "text/plain": [
       "['./models/UV_random_forest.joblib']"
      ]
     },
     "execution_count": 4,
     "metadata": {},
     "output_type": "execute_result"
    }
   ],
   "source": [
    "dump(UV_regr.best_estimator_, models_base + \"UV_random_forest.joblib\")"
   ]
  },
  {
   "cell_type": "code",
   "execution_count": 5,
   "metadata": {},
   "outputs": [
    {
     "name": "stdout",
     "output_type": "stream",
     "text": [
      "Fitting 7 folds for each of 720 candidates, totalling 5040 fits\n",
      "{'max_depth': 5, 'min_samples_leaf': 10, 'min_samples_split': 10, 'n_estimators': 5} -1.7585439378872658\n"
     ]
    }
   ],
   "source": [
    "VIS_x = np.loadtxt(save_base + \"VIS_x.csv\", delimiter=',')\n",
    "y = np.loadtxt(save_base + \"y.csv\", delimiter=',')\n",
    "\n",
    "parameters = {\n",
    "    'n_estimators': [5, 10, 30, 50],\n",
    "    'max_depth': [2, 5, 10, 15, 20],\n",
    "    'min_samples_split': [2, 5, 10, 15, 20, 30],\n",
    "    'min_samples_leaf': [2, 5, 10, 15, 20, 30],\n",
    "}\n",
    "\n",
    "VIS_forest = RandomForestRegressor()\n",
    "VIS_regr = GridSearchCV(VIS_forest, parameters, scoring='neg_root_mean_squared_error', cv=7, n_jobs=-1, verbose=1)\n",
    "VIS_regr.fit(VIS_x, y)\n",
    "\n",
    "print(VIS_regr.best_params_, VIS_regr.best_score_)"
   ]
  },
  {
   "cell_type": "code",
   "execution_count": 6,
   "metadata": {},
   "outputs": [
    {
     "data": {
      "text/plain": [
       "['./models/VIS_random_forest.joblib']"
      ]
     },
     "execution_count": 6,
     "metadata": {},
     "output_type": "execute_result"
    }
   ],
   "source": [
    "dump(VIS_regr.best_estimator_, models_base + \"VIS_random_forest.joblib\")"
   ]
  },
  {
   "cell_type": "code",
   "execution_count": 7,
   "metadata": {},
   "outputs": [
    {
     "name": "stdout",
     "output_type": "stream",
     "text": [
      "Fitting 7 folds for each of 720 candidates, totalling 5040 fits\n",
      "{'max_depth': 20, 'min_samples_leaf': 5, 'min_samples_split': 2, 'n_estimators': 5} -1.655483499010262\n"
     ]
    }
   ],
   "source": [
    "IR_x = np.loadtxt(save_base + \"IR_x.csv\", delimiter=',')\n",
    "y = np.loadtxt(save_base + \"y.csv\", delimiter=',')\n",
    "\n",
    "parameters = {\n",
    "    'n_estimators': [5, 10, 30, 50],\n",
    "    'max_depth': [2, 5, 10, 15, 20],\n",
    "    'min_samples_split': [2, 5, 10, 15, 20, 30],\n",
    "    'min_samples_leaf': [2, 5, 10, 15, 20, 30],\n",
    "}\n",
    "\n",
    "IR_forest = RandomForestRegressor()\n",
    "IR_regr = GridSearchCV(IR_forest, parameters, scoring='neg_root_mean_squared_error', cv=7, n_jobs=-1, verbose=1)\n",
    "IR_regr.fit(IR_x, y)\n",
    "\n",
    "print(IR_regr.best_params_, IR_regr.best_score_)"
   ]
  },
  {
   "cell_type": "code",
   "execution_count": 8,
   "metadata": {},
   "outputs": [
    {
     "data": {
      "text/plain": [
       "['./models/IR_random_forest.joblib']"
      ]
     },
     "execution_count": 8,
     "metadata": {},
     "output_type": "execute_result"
    }
   ],
   "source": [
    "dump(IR_regr.best_estimator_, models_base + \"IR_random_forest.joblib\")"
   ]
  }
 ],
 "metadata": {
  "kernelspec": {
   "display_name": "env",
   "language": "python",
   "name": "python3"
  },
  "language_info": {
   "codemirror_mode": {
    "name": "ipython",
    "version": 3
   },
   "file_extension": ".py",
   "mimetype": "text/x-python",
   "name": "python",
   "nbconvert_exporter": "python",
   "pygments_lexer": "ipython3",
   "version": "3.8.3"
  }
 },
 "nbformat": 4,
 "nbformat_minor": 2
}
