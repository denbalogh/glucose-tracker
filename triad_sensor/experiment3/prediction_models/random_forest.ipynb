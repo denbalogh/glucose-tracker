{
 "cells": [
  {
   "cell_type": "code",
   "execution_count": 1,
   "metadata": {},
   "outputs": [],
   "source": [
    "import numpy as np\n",
    "from sklearn.ensemble import RandomForestRegressor\n",
    "from sklearn.model_selection import cross_val_score\n",
    "from joblib import dump\n",
    "\n",
    "save_base = \"../preprocessed_data/\"\n",
    "models_base = \"./models/\"\n",
    "\n",
    "channels = [\"410nm\", \"435nm\", \"460nm\", \"485nm\", \"510nm\", \"535nm\", \"560nm\",\"585nm\",\"610nm\",\"645nm\",\"680nm\",\"705nm\",\"730nm\",\"760nm\",\"810nm\",\"860nm\",\"900nm\",\"940nm\"]\n",
    "\n",
    "# [0, 1, 2, 3, 4, 5, 6, 7, 8, 9, 10, 11, 12, 13, 14, 15, 16, 17, 18]"
   ]
  },
  {
   "cell_type": "code",
   "execution_count": 146,
   "metadata": {},
   "outputs": [
    {
     "name": "stdout",
     "output_type": "stream",
     "text": [
      "-1.9438867787136824\n"
     ]
    }
   ],
   "source": [
    "UV_indices = [0, 1, 2, 3, 4, 5, 6, 7, 13, 14, 15, 16, 18]\n",
    "\n",
    "UV_x = np.loadtxt(save_base + \"UV_x.csv\", delimiter=',')\n",
    "y = np.loadtxt(save_base + \"y.csv\", delimiter=',')\n",
    "\n",
    "UV_forest = RandomForestRegressor(n_estimators=10, random_state=42)\n",
    "score = cross_val_score(UV_forest, UV_x[:, UV_indices], y, cv=7, scoring='neg_root_mean_squared_error').mean()\n",
    "\n",
    "print(score)"
   ]
  },
  {
   "cell_type": "code",
   "execution_count": 147,
   "metadata": {},
   "outputs": [
    {
     "name": "stdout",
     "output_type": "stream",
     "text": [
      "410nm, 435nm, 460nm, 485nm, 510nm, 535nm, 560nm, 585nm, 760nm, 810nm, 860nm, 900nm\n"
     ]
    }
   ],
   "source": [
    "UV_indices = [0, 1, 2, 3, 4, 5, 6, 7, 13, 14, 15, 16]\n",
    "\n",
    "print(\", \".join(list(map(lambda x: channels[x], UV_indices))))"
   ]
  },
  {
   "cell_type": "code",
   "execution_count": 138,
   "metadata": {},
   "outputs": [
    {
     "data": {
      "text/plain": [
       "['./models/UV_random_forest.joblib']"
      ]
     },
     "execution_count": 138,
     "metadata": {},
     "output_type": "execute_result"
    }
   ],
   "source": [
    "UV_forest.fit(UV_x[:, UV_indices], y)\n",
    "\n",
    "dump(UV_forest, models_base + \"UV_random_forest.joblib\")"
   ]
  },
  {
   "cell_type": "code",
   "execution_count": 97,
   "metadata": {},
   "outputs": [
    {
     "name": "stdout",
     "output_type": "stream",
     "text": [
      "-2.1090728875460645\n"
     ]
    }
   ],
   "source": [
    "VIS_indices = [0, 1, 2, 3, 4, 5, 6, 7, 8, 9, 10, 11, 12, 13, 14, 15, 16, 17, 18]\n",
    "\n",
    "VIS_x = np.loadtxt(save_base + \"VIS_x.csv\", delimiter=',')\n",
    "y = np.loadtxt(save_base + \"y.csv\", delimiter=',')\n",
    "\n",
    "VIS_forest = RandomForestRegressor(n_estimators=10, random_state=42)\n",
    "score = cross_val_score(VIS_forest, VIS_x[:, VIS_indices], y, cv=7, scoring='neg_root_mean_squared_error').mean()\n",
    "\n",
    "print(score)"
   ]
  },
  {
   "cell_type": "code",
   "execution_count": 139,
   "metadata": {},
   "outputs": [
    {
     "data": {
      "text/plain": [
       "['./models/VIS_random_forest.joblib']"
      ]
     },
     "execution_count": 139,
     "metadata": {},
     "output_type": "execute_result"
    }
   ],
   "source": [
    "VIS_forest.fit(VIS_x[:, VIS_indices], y)\n",
    "\n",
    "dump(VIS_forest, models_base + \"VIS_random_forest.joblib\")"
   ]
  },
  {
   "cell_type": "code",
   "execution_count": 137,
   "metadata": {},
   "outputs": [
    {
     "name": "stdout",
     "output_type": "stream",
     "text": [
      "-2.0928792598676815\n"
     ]
    }
   ],
   "source": [
    "IR_indices = [0, 1, 2, 3, 4, 5, 6, 7, 8, 9, 10, 11, 12, 13, 14, 15, 16, 17]\n",
    "\n",
    "IR_x = np.loadtxt(save_base + \"IR_x.csv\", delimiter=',')\n",
    "y = np.loadtxt(save_base + \"y.csv\", delimiter=',')\n",
    "\n",
    "IR_forest = RandomForestRegressor(n_estimators=10, random_state=42)\n",
    "score = cross_val_score(IR_forest, IR_x[:, IR_indices], y, cv=7, scoring='neg_root_mean_squared_error').mean()\n",
    "\n",
    "print(score)"
   ]
  },
  {
   "cell_type": "code",
   "execution_count": 140,
   "metadata": {},
   "outputs": [
    {
     "data": {
      "text/plain": [
       "['./models/IR_random_forest.joblib']"
      ]
     },
     "execution_count": 140,
     "metadata": {},
     "output_type": "execute_result"
    }
   ],
   "source": [
    "IR_forest.fit(IR_x[:, IR_indices], y)\n",
    "\n",
    "dump(IR_forest, models_base + \"IR_random_forest.joblib\")"
   ]
  },
  {
   "cell_type": "code",
   "execution_count": 2,
   "metadata": {},
   "outputs": [
    {
     "name": "stdout",
     "output_type": "stream",
     "text": [
      "-2.130335866653238\n"
     ]
    }
   ],
   "source": [
    "IR_indices = [10, 11, 16, 17]\n",
    "\n",
    "IR_x = np.loadtxt(save_base + \"IR_x.csv\", delimiter=',')\n",
    "y = np.loadtxt(save_base + \"y.csv\", delimiter=',')\n",
    "\n",
    "IR_forest = RandomForestRegressor(n_estimators=10, random_state=42)\n",
    "score = cross_val_score(IR_forest, IR_x[:, IR_indices], y, cv=7, scoring='neg_root_mean_squared_error').mean()\n",
    "\n",
    "print(score)"
   ]
  },
  {
   "cell_type": "code",
   "execution_count": 3,
   "metadata": {},
   "outputs": [
    {
     "data": {
      "text/plain": [
       "['./models/IR_random_forest_best_channels.joblib']"
      ]
     },
     "execution_count": 3,
     "metadata": {},
     "output_type": "execute_result"
    }
   ],
   "source": [
    "IR_forest.fit(IR_x[:, IR_indices], y)\n",
    "\n",
    "dump(IR_forest, models_base + \"IR_random_forest_best_channels.joblib\")"
   ]
  }
 ],
 "metadata": {
  "kernelspec": {
   "display_name": "env",
   "language": "python",
   "name": "python3"
  },
  "language_info": {
   "codemirror_mode": {
    "name": "ipython",
    "version": 3
   },
   "file_extension": ".py",
   "mimetype": "text/x-python",
   "name": "python",
   "nbconvert_exporter": "python",
   "pygments_lexer": "ipython3",
   "version": "3.8.3"
  }
 },
 "nbformat": 4,
 "nbformat_minor": 2
}
