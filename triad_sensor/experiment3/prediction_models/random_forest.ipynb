{
 "cells": [
  {
   "cell_type": "code",
   "execution_count": 1,
   "metadata": {},
   "outputs": [],
   "source": [
    "import numpy as np\n",
    "from sklearn.ensemble import RandomForestRegressor\n",
    "from sklearn.model_selection import GridSearchCV\n",
    "\n",
    "save_base = \"../preprocessed_data/\"\n"
   ]
  },
  {
   "cell_type": "code",
   "execution_count": 7,
   "metadata": {},
   "outputs": [
    {
     "name": "stdout",
     "output_type": "stream",
     "text": [
      "Fitting 7 folds for each of 81 candidates, totalling 567 fits\n",
      "{'max_depth': 60, 'min_samples_leaf': 8, 'min_samples_split': 10, 'n_estimators': 450} -1.3172406808290844\n"
     ]
    }
   ],
   "source": [
    "UV_x = np.loadtxt(save_base + \"UV_x.csv\", delimiter=',')\n",
    "y = np.loadtxt(save_base + \"y.csv\", delimiter=',')\n",
    "\n",
    "parameters = {\n",
    "    'n_estimators': [400, 450, 500],\n",
    "    'max_depth': [40, 50, 60],\n",
    "    'min_samples_split': [5, 10, 20],\n",
    "    'min_samples_leaf': [8, 10, 12],\n",
    "}\n",
    "\n",
    "UV_forest = RandomForestRegressor()\n",
    "UV_regr = GridSearchCV(UV_forest, parameters, scoring='neg_root_mean_squared_error', cv=7, n_jobs=-1, verbose=1)\n",
    "UV_regr.fit(UV_x, y)\n",
    "\n",
    "print(UV_regr.best_params_, UV_regr.best_score_)"
   ]
  },
  {
   "cell_type": "code",
   "execution_count": 3,
   "metadata": {},
   "outputs": [
    {
     "name": "stdout",
     "output_type": "stream",
     "text": [
      "Fitting 7 folds for each of 81 candidates, totalling 567 fits\n",
      "{'max_depth': 40, 'min_samples_leaf': 4, 'min_samples_split': 40, 'n_estimators': 450} -1.3368164316754279\n"
     ]
    }
   ],
   "source": [
    "VIS_x = np.loadtxt(save_base + \"VIS_x.csv\", delimiter=',')\n",
    "y = np.loadtxt(save_base + \"y.csv\", delimiter=',')\n",
    "\n",
    "parameters = {\n",
    "    'n_estimators': [400, 450, 500],\n",
    "    'max_depth': [30, 40, 50],\n",
    "    'min_samples_split': [30, 40, 50],\n",
    "    'min_samples_leaf': [4, 6, 8],\n",
    "}\n",
    "\n",
    "VIS_forest = RandomForestRegressor()\n",
    "VIS_regr = GridSearchCV(VIS_forest, parameters, scoring='neg_root_mean_squared_error', cv=7, n_jobs=-1, verbose=1)\n",
    "VIS_regr.fit(VIS_x, y)\n",
    "\n",
    "print(VIS_regr.best_params_, VIS_regr.best_score_)"
   ]
  },
  {
   "cell_type": "code",
   "execution_count": 6,
   "metadata": {},
   "outputs": [
    {
     "name": "stdout",
     "output_type": "stream",
     "text": [
      "Fitting 7 folds for each of 81 candidates, totalling 567 fits\n",
      "{'max_depth': 20, 'min_samples_leaf': 10, 'min_samples_split': 40, 'n_estimators': 300} -1.3322164975939192\n"
     ]
    }
   ],
   "source": [
    "IR_x = np.loadtxt(save_base + \"IR_x.csv\", delimiter=',')\n",
    "y = np.loadtxt(save_base + \"y.csv\", delimiter=',')\n",
    "\n",
    "parameters = {\n",
    "    'n_estimators': [250, 300, 350],\n",
    "    'max_depth': [20, 30, 40],\n",
    "    'min_samples_split': [30, 40, 50],\n",
    "    'min_samples_leaf': [8, 10, 12],\n",
    "}\n",
    "\n",
    "IR_forest = RandomForestRegressor()\n",
    "IR_regr = GridSearchCV(IR_forest, parameters, scoring='neg_root_mean_squared_error', cv=7, n_jobs=-1, verbose=1)\n",
    "IR_regr.fit(IR_x, y)\n",
    "\n",
    "print(IR_regr.best_params_, IR_regr.best_score_)"
   ]
  },
  {
   "cell_type": "code",
   "execution_count": 48,
   "metadata": {},
   "outputs": [
    {
     "name": "stdout",
     "output_type": "stream",
     "text": [
      "Fitting 7 folds for each of 81 candidates, totalling 567 fits\n",
      "{'max_depth': 40, 'min_samples_leaf': 14, 'min_samples_split': 20, 'n_estimators': 200} -1.361203224869112\n"
     ]
    }
   ],
   "source": [
    "ALL_x = np.hstack((UV_x, VIS_x, IR_x))\n",
    "y = np.loadtxt(save_base + \"y.csv\", delimiter=',')\n",
    "\n",
    "parameters = {\n",
    "    'n_estimators': [150, 200, 250],\n",
    "    'max_depth': [20, 30, 40],\n",
    "    'min_samples_split': [20, 30, 40],\n",
    "    'min_samples_leaf': [12, 14, 16],\n",
    "}\n",
    "\n",
    "ALL_forest = RandomForestRegressor()\n",
    "ALL_regr = GridSearchCV(ALL_forest, parameters, scoring='neg_root_mean_squared_error', cv=7, n_jobs=-1, verbose=1)\n",
    "ALL_regr.fit(ALL_x, y)\n",
    "\n",
    "print(ALL_regr.best_params_, ALL_regr.best_score_)"
   ]
  }
 ],
 "metadata": {
  "kernelspec": {
   "display_name": "env",
   "language": "python",
   "name": "python3"
  },
  "language_info": {
   "codemirror_mode": {
    "name": "ipython",
    "version": 3
   },
   "file_extension": ".py",
   "mimetype": "text/x-python",
   "name": "python",
   "nbconvert_exporter": "python",
   "pygments_lexer": "ipython3",
   "version": "3.8.3"
  }
 },
 "nbformat": 4,
 "nbformat_minor": 2
}
