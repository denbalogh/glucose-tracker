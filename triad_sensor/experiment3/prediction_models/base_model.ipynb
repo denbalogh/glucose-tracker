{
 "cells": [
  {
   "cell_type": "code",
   "execution_count": null,
   "metadata": {},
   "outputs": [],
   "source": [
    "import os\n",
    "import numpy as np\n",
    "import matplotlib.pyplot as plt\n",
    "from IPython.display import Markdown, display\n",
    "\n",
    "base = \"data_max_integration_time/\"\n",
    "\n",
    "UV = \"UV/\"\n",
    "VIS = \"VIS/\"\n",
    "IR = \"IR/\"\n",
    "\n",
    "types = [\n",
    "    {\n",
    "        \"path\": UV,\n",
    "        \"name\": \"UV\"\n",
    "    },\n",
    "    {\n",
    "        \"path\": VIS,\n",
    "        \"name\": \"VIS\"\n",
    "    },\n",
    "    {\n",
    "        \"path\": IR,\n",
    "        \"name\": \"IR\"\n",
    "    },\n",
    "]\n",
    "\n",
    "channels = [\"410nm\", \"435nm\", \"460nm\", \"485nm\", \"510nm\", \"535nm\", \"560nm\",\"585nm\",\"610nm\",\"645nm\",\"680nm\",\"705nm\",\"730nm\",\"760nm\",\"810nm\",\"860nm\",\"900nm\",\"940nm\"]\n",
    "\n",
    "exclude_files = [\"19.csv\", \"13.csv\"]"
   ]
  }
 ],
 "metadata": {
  "language_info": {
   "name": "python"
  }
 },
 "nbformat": 4,
 "nbformat_minor": 2
}
