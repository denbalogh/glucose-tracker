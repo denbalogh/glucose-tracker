{
 "cells": [
  {
   "cell_type": "code",
   "execution_count": 1,
   "metadata": {},
   "outputs": [],
   "source": [
    "import os\n",
    "import numpy as np\n",
    "from sklearn.preprocessing import StandardScaler\n",
    "from joblib import dump\n",
    "\n",
    "base = \"data_max_integration_time/\"\n",
    "save_base = \"preprocessed_data/\"\n",
    "\n",
    "UV = \"UV/\"\n",
    "VIS = \"VIS/\"\n",
    "IR = \"IR/\"\n",
    "\n",
    "exclude_files = [] # [\"19.csv\", \"13.csv\"]\n",
    "\n",
    "scaler = StandardScaler()"
   ]
  },
  {
   "cell_type": "code",
   "execution_count": 2,
   "metadata": {},
   "outputs": [
    {
     "name": "stdout",
     "output_type": "stream",
     "text": [
      "(38, 19) (38,)\n"
     ]
    }
   ],
   "source": [
    "# UV files\n",
    "\n",
    "filepath = base + UV\n",
    "files = os.listdir(filepath)\n",
    "    \n",
    "UV_x = y = None\n",
    "\n",
    "for file in files:\n",
    "    \n",
    "    if file in exclude_files:\n",
    "        continue\n",
    "    \n",
    "    with open(filepath + file, \"r\") as f:\n",
    "        content = f.readlines()\n",
    "        entries = content[0:-1]\n",
    "        glucose_concentration = float(content[-1].replace(\"glucose_concentration:\", \"\").replace(\"\\n\", \"\"))\n",
    "        \n",
    "        value = [np.fromstring(entry.replace(\"\\n\", \"\"), sep=\"|\") for entry in entries]\n",
    "        value = np.concatenate(value, axis=0).reshape(2, -1).mean(axis=0)\n",
    "        \n",
    "        UV_x = value if UV_x is None else np.vstack((UV_x, value))\n",
    "        y = np.array([glucose_concentration]) if y is None else np.append(y, glucose_concentration)\n",
    "\n",
    "print(UV_x.shape, y.shape)\n",
    "\n",
    "np.savetxt(save_base + \"y.csv\", y, delimiter=\",\")\n",
    "np.savetxt(save_base + \"UV_x.csv\", UV_x, delimiter=\",\")\n",
    "\n",
    "scaled_UV_x = scaler.fit_transform(UV_x)\n",
    "dump(scaler, \"UV_std_scaler.joblib\")\n",
    "\n",
    "np.savetxt(save_base + \"UV_x_scaled.csv\", scaled_UV_x, delimiter=\",\")\n"
   ]
  },
  {
   "cell_type": "code",
   "execution_count": 3,
   "metadata": {},
   "outputs": [
    {
     "name": "stdout",
     "output_type": "stream",
     "text": [
      "(38, 19)\n"
     ]
    }
   ],
   "source": [
    "# VIS files\n",
    "\n",
    "filepath = base + VIS\n",
    "files = os.listdir(filepath)\n",
    "    \n",
    "VIS_x = None\n",
    "\n",
    "for file in files:\n",
    "    \n",
    "    if file in exclude_files:\n",
    "        continue\n",
    "    \n",
    "    with open(filepath + file, \"r\") as f:\n",
    "        content = f.readlines()\n",
    "        entries = content[0:-1]\n",
    "        \n",
    "        value = [np.fromstring(entry.replace(\"\\n\", \"\"), sep=\"|\") for entry in entries]\n",
    "        value = np.concatenate(value, axis=0).reshape(2, -1).mean(axis=0)\n",
    "        \n",
    "        VIS_x = value if VIS_x is None else np.vstack((VIS_x, value))\n",
    "\n",
    "print(VIS_x.shape)\n",
    "\n",
    "scaled_VIS_x = scaler.fit_transform(VIS_x)\n",
    "dump(scaler, \"VIS_std_scaler.joblib\")\n",
    "\n",
    "np.savetxt(save_base + \"VIS_x.csv\", VIS_x, delimiter=\",\")\n",
    "np.savetxt(save_base + \"VIS_x_scaled.csv\", scaled_VIS_x, delimiter=\",\")"
   ]
  },
  {
   "cell_type": "code",
   "execution_count": 4,
   "metadata": {},
   "outputs": [
    {
     "name": "stdout",
     "output_type": "stream",
     "text": [
      "(38, 19)\n"
     ]
    }
   ],
   "source": [
    "# IR files\n",
    "\n",
    "filepath = base + IR\n",
    "files = os.listdir(filepath)\n",
    "    \n",
    "IR_x = None\n",
    "\n",
    "for file in files:\n",
    "    \n",
    "    if file in exclude_files:\n",
    "        continue\n",
    "    \n",
    "    with open(filepath + file, \"r\") as f:\n",
    "        content = f.readlines()\n",
    "        entries = content[0:-1]\n",
    "        \n",
    "        value = [np.fromstring(entry.replace(\"\\n\", \"\"), sep=\"|\") for entry in entries]\n",
    "        value = np.concatenate(value, axis=0).reshape(2, -1).mean(axis=0)\n",
    "        \n",
    "        IR_x = value if IR_x is None else np.vstack((IR_x, value))\n",
    "\n",
    "print(IR_x.shape)\n",
    "\n",
    "scaled_IR_x = scaler.fit_transform(IR_x)\n",
    "dump(scaler, \"IR_std_scaler.joblib\")\n",
    "\n",
    "np.savetxt(save_base + \"IR_x.csv\", IR_x, delimiter=\",\")\n",
    "np.savetxt(save_base + \"IR_x_scaled.csv\", scaled_IR_x, delimiter=\",\")"
   ]
  }
 ],
 "metadata": {
  "kernelspec": {
   "display_name": "env",
   "language": "python",
   "name": "python3"
  },
  "language_info": {
   "codemirror_mode": {
    "name": "ipython",
    "version": 3
   },
   "file_extension": ".py",
   "mimetype": "text/x-python",
   "name": "python",
   "nbconvert_exporter": "python",
   "pygments_lexer": "ipython3",
   "version": "3.8.3"
  }
 },
 "nbformat": 4,
 "nbformat_minor": 2
}
