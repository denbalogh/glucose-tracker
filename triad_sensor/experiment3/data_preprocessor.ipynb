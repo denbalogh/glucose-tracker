{
 "cells": [
  {
   "cell_type": "code",
   "execution_count": 40,
   "metadata": {},
   "outputs": [],
   "source": [
    "import os\n",
    "import numpy as np\n",
    "from sklearn.preprocessing import StandardScaler\n",
    "from sklearn.model_selection import ShuffleSplit\n",
    "\n",
    "base = \"data_max_integration_time/\"\n",
    "save_base = \"preprocessed_data/\"\n",
    "train_base = save_base + \"train/\"\n",
    "test_base = save_base + \"test/\"\n",
    "\n",
    "UV = \"UV/\"\n",
    "VIS = \"VIS/\"\n",
    "IR = \"IR/\"\n",
    "\n",
    "exclude_files = [\"19.csv\", \"13.csv\"]\n",
    "\n",
    "scaler = StandardScaler()\n",
    "sss = ShuffleSplit(n_splits=1, test_size=0.2, random_state=10)"
   ]
  },
  {
   "cell_type": "code",
   "execution_count": 41,
   "metadata": {},
   "outputs": [
    {
     "name": "stdout",
     "output_type": "stream",
     "text": [
      "(23, 19) (23,)\n",
      "[12 20 13 14  3 21  6 18 10 19 22  8 16 17  0 15  4  9] [4.  3.8 6.1 4.1 6.2]\n"
     ]
    }
   ],
   "source": [
    "# UV files\n",
    "\n",
    "filepath = base + UV\n",
    "files = os.listdir(filepath)\n",
    "    \n",
    "UV_x = y = None\n",
    "\n",
    "for file in files:\n",
    "    \n",
    "    if file in exclude_files:\n",
    "        continue\n",
    "    \n",
    "    with open(filepath + file, \"r\") as f:\n",
    "        content = f.readlines()\n",
    "        entries = content[0:-1]\n",
    "        glucose_concentration = float(content[-1].replace(\"glucose_concentration:\", \"\").replace(\"\\n\", \"\"))\n",
    "        \n",
    "        value = [np.fromstring(entry.replace(\"\\n\", \"\"), sep=\"|\") for entry in entries]\n",
    "        value = np.concatenate(value, axis=0).reshape(2, -1).mean(axis=0)\n",
    "        \n",
    "        UV_x = value if UV_x is None else np.vstack((UV_x, value))\n",
    "        y = np.array([glucose_concentration]) if y is None else np.append(y, glucose_concentration)\n",
    "\n",
    "print(UV_x.shape, y.shape)\n",
    "\n",
    "sss.get_n_splits(UV_x, y)\n",
    "train_index, test_index = next(sss.split(UV_x, y)) \n",
    "\n",
    "np.savetxt(train_base + \"y.csv\", y[train_index], delimiter=\",\")\n",
    "np.savetxt(test_base + \"y.csv\", y[test_index], delimiter=\",\")\n",
    "\n",
    "np.savetxt(train_base + \"UV_x.csv\", UV_x[train_index], delimiter=\",\")\n",
    "np.savetxt(test_base + \"UV_x.csv\", UV_x[test_index], delimiter=\",\")\n",
    "\n",
    "scaled_UV_x = scaler.fit_transform(UV_x)\n",
    "\n",
    "print(train_index, y[test_index])\n",
    "\n",
    "np.savetxt(train_base + \"UV_x_scaled.csv\", scaled_UV_x[train_index], delimiter=\",\")\n",
    "np.savetxt(test_base + \"UV_x_scaled.csv\", scaled_UV_x[test_index], delimiter=\",\")\n"
   ]
  },
  {
   "cell_type": "code",
   "execution_count": 42,
   "metadata": {},
   "outputs": [
    {
     "name": "stdout",
     "output_type": "stream",
     "text": [
      "(23, 19)\n"
     ]
    }
   ],
   "source": [
    "# VIS files\n",
    "\n",
    "filepath = base + VIS\n",
    "files = os.listdir(filepath)\n",
    "    \n",
    "VIS_x = None\n",
    "\n",
    "for file in files:\n",
    "    \n",
    "    if file in exclude_files:\n",
    "        continue\n",
    "    \n",
    "    with open(filepath + file, \"r\") as f:\n",
    "        content = f.readlines()\n",
    "        entries = content[0:-1]\n",
    "        \n",
    "        value = [np.fromstring(entry.replace(\"\\n\", \"\"), sep=\"|\") for entry in entries]\n",
    "        value = np.concatenate(value, axis=0).reshape(2, -1).mean(axis=0)\n",
    "        \n",
    "        VIS_x = value if VIS_x is None else np.vstack((VIS_x, value))\n",
    "\n",
    "print(VIS_x.shape)\n",
    "\n",
    "scaled_VIS_x = scaler.fit_transform(VIS_x)\n",
    "\n",
    "np.savetxt(train_base + \"VIS_x.csv\", VIS_x[train_index], delimiter=\",\")\n",
    "np.savetxt(test_base + \"VIS_x.csv\", VIS_x[test_index], delimiter=\",\")\n",
    "\n",
    "np.savetxt(train_base + \"VIS_x_scaled.csv\", scaled_VIS_x[train_index], delimiter=\",\")\n",
    "np.savetxt(test_base + \"VIS_x_scaled.csv\", scaled_VIS_x[test_index], delimiter=\",\")"
   ]
  },
  {
   "cell_type": "code",
   "execution_count": 43,
   "metadata": {},
   "outputs": [
    {
     "name": "stdout",
     "output_type": "stream",
     "text": [
      "(23, 19)\n"
     ]
    }
   ],
   "source": [
    "# IR files\n",
    "\n",
    "filepath = base + IR\n",
    "files = os.listdir(filepath)\n",
    "    \n",
    "IR_x = None\n",
    "\n",
    "for file in files:\n",
    "    \n",
    "    if file in exclude_files:\n",
    "        continue\n",
    "    \n",
    "    with open(filepath + file, \"r\") as f:\n",
    "        content = f.readlines()\n",
    "        entries = content[0:-1]\n",
    "        \n",
    "        value = [np.fromstring(entry.replace(\"\\n\", \"\"), sep=\"|\") for entry in entries]\n",
    "        value = np.concatenate(value, axis=0).reshape(2, -1).mean(axis=0)\n",
    "        \n",
    "        IR_x = value if IR_x is None else np.vstack((IR_x, value))\n",
    "\n",
    "print(IR_x.shape)\n",
    "\n",
    "scaled_IR_x = scaler.fit_transform(IR_x)\n",
    "\n",
    "np.savetxt(train_base + \"IR_x.csv\", IR_x[train_index], delimiter=\",\")\n",
    "np.savetxt(test_base + \"IR_x.csv\", IR_x[test_index], delimiter=\",\")\n",
    "\n",
    "np.savetxt(train_base + \"IR_x_scaled.csv\", scaled_IR_x[train_index], delimiter=\",\")\n",
    "np.savetxt(test_base + \"IR_x_scaled.csv\", scaled_IR_x[test_index], delimiter=\",\")"
   ]
  },
  {
   "cell_type": "code",
   "execution_count": 44,
   "metadata": {},
   "outputs": [],
   "source": [
    "# Merge all data\n",
    "\n",
    "ALL_x = np.hstack((UV_x, VIS_x, IR_x))\n",
    "\n",
    "scaled_ALL_x = scaler.fit_transform(ALL_x)\n",
    "\n",
    "np.savetxt(train_base + \"ALL_x.csv\", ALL_x[train_index], delimiter=\",\")\n",
    "np.savetxt(test_base + \"ALL_x.csv\", ALL_x[test_index], delimiter=\",\")\n",
    "\n",
    "np.savetxt(train_base + \"ALL_x_scaled.csv\", scaled_ALL_x[train_index], delimiter=\",\")\n",
    "np.savetxt(test_base + \"ALL_x_scaled.csv\", scaled_ALL_x[test_index], delimiter=\",\")"
   ]
  }
 ],
 "metadata": {
  "kernelspec": {
   "display_name": "env",
   "language": "python",
   "name": "python3"
  },
  "language_info": {
   "codemirror_mode": {
    "name": "ipython",
    "version": 3
   },
   "file_extension": ".py",
   "mimetype": "text/x-python",
   "name": "python",
   "nbconvert_exporter": "python",
   "pygments_lexer": "ipython3",
   "version": "3.8.3"
  }
 },
 "nbformat": 4,
 "nbformat_minor": 2
}
