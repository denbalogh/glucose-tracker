{
 "cells": [
  {
   "cell_type": "code",
   "execution_count": 21,
   "metadata": {},
   "outputs": [],
   "source": [
    "import serial\n",
    "from datetime import datetime\n",
    "import os\n",
    "from IPython.display import clear_output\n",
    "\n",
    "base = \"data/\"\n",
    "arduino = serial.Serial(port='/dev/tty.usbserial-1440', baudrate=115200, timeout=.1)\n",
    "\n",
    "gains = [1, 2, 3]\n",
    "led_intensities = ['min', 'mid', 'max']\n",
    "\n",
    "n_samples = 30\n",
    "filename = \"100mM\"\n"
   ]
  },
  {
   "cell_type": "code",
   "execution_count": 22,
   "metadata": {},
   "outputs": [
    {
     "name": "stdout",
     "output_type": "stream",
     "text": [
      "Sample 30/30, Gain 1, Led intensity min\n",
      "Sample 30/30, Gain 1, Led intensity mid\n",
      "Sample 30/30, Gain 1, Led intensity max\n",
      "Sample 30/30, Gain 2, Led intensity min\n",
      "Sample 30/30, Gain 2, Led intensity mid\n",
      "Sample 30/30, Gain 2, Led intensity max\n",
      "Sample 30/30, Gain 3, Led intensity min\n",
      "Sample 30/30, Gain 3, Led intensity mid\n",
      "Sample 30/30, Gain 3, Led intensity max\n"
     ]
    }
   ],
   "source": [
    "# import time\n",
    "\n",
    "batch_path = os.path.join(base, filename + '.csv')\n",
    "\n",
    "if os.path.exists(batch_path):\n",
    "    print(\"Batch already exists. Exiting.\")\n",
    "else:\n",
    "    # start_time = time.time()\n",
    "    with open(batch_path, 'w') as f:\n",
    "        for x in range(n_samples):\n",
    "            clear_output(wait=True)\n",
    "            line = \"\"\n",
    "            for gain in gains:\n",
    "                for led_intensity in led_intensities:\n",
    "                    line += f\"(G:{gain},I:{led_intensity})\"\n",
    "                    # Send get command to arduino\n",
    "                    command = \"get:\" + str(gain) + \",\" + str(led_intensity)\n",
    "                    arduino.write(bytes(command, 'utf-8'))\n",
    "                    while True:\n",
    "                        # Wait until arduino sends data\n",
    "                        if arduino.in_waiting > 0:\n",
    "                            line += arduino.readline().decode()[:-2] + \"#\"\n",
    "                            # Log process\n",
    "                            print(f\"Sample {x+1}/{n_samples}, Gain {gain}, Led intensity {led_intensity}\")\n",
    "                            break\n",
    "            f.write(line + '\\n')\n",
    "    # print(\"--- %s seconds ---\" % (time.time() - start_time))\n"
   ]
  }
 ],
 "metadata": {
  "kernelspec": {
   "display_name": "env",
   "language": "python",
   "name": "python3"
  },
  "language_info": {
   "codemirror_mode": {
    "name": "ipython",
    "version": 3
   },
   "file_extension": ".py",
   "mimetype": "text/x-python",
   "name": "python",
   "nbconvert_exporter": "python",
   "pygments_lexer": "ipython3",
   "version": "3.8.3"
  }
 },
 "nbformat": 4,
 "nbformat_minor": 2
}
