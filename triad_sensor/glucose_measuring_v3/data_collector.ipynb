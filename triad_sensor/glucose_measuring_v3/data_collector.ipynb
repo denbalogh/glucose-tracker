{
 "cells": [
  {
   "cell_type": "code",
   "execution_count": 62,
   "metadata": {},
   "outputs": [],
   "source": [
    "import serial\n",
    "import os\n",
    "from IPython.display import clear_output\n",
    "\n",
    "base = \"data/\"\n",
    "\n",
    "CLEAR = \"CLEAR/\"\n",
    "WITH_COVER_WHITE = \"WITH_COVER_WHITE/\"\n",
    "WITH_COVER_YELLOW = \"WITH_COVER_YELLOW/\"\n",
    "WITH_COVER_BLUE = \"WITH_COVER_BLUE/\"\n",
    "WITH_COVER_BLACK = \"WITH_COVER_BLACK/\"\n",
    "\n",
    "UV = \"UV/\"\n",
    "VIS = \"VIS/\"\n",
    "IR = \"IR/\"\n",
    "VIS_IR = \"VIS_IR/\"\n",
    "\n",
    "arduino = serial.Serial(port='/dev/tty.usbserial-1410', baudrate=115200, timeout=.1)\n",
    "\n",
    "current_measurement = WITH_COVER_BLACK\n",
    "\n",
    "n_samples = 5\n",
    "\n",
    "filename = \"12mM\"\n",
    "index = 0\n"
   ]
  },
  {
   "cell_type": "code",
   "execution_count": 63,
   "metadata": {},
   "outputs": [
    {
     "name": "stdout",
     "output_type": "stream",
     "text": [
      "Reading get:VIS_IR... 5/5 samples\n"
     ]
    }
   ],
   "source": [
    "import time\n",
    "\n",
    "UV_batch_path = os.path.join(base, current_measurement, UV, f\"{filename}_{index}.csv\")\n",
    "VIS_batch_path = os.path.join(base, current_measurement, VIS, f\"{filename}_{index}.csv\")\n",
    "IR_batch_path = os.path.join(base, current_measurement, IR, f\"{filename}_{index}.csv\")\n",
    "VIS_IR_batch_path = os.path.join(base, current_measurement, VIS_IR, f\"{filename}_{index}.csv\")\n",
    "\n",
    "batches = [\n",
    "    {\"path\": UV_batch_path, \"command\": \"get:UV\"}, \n",
    "    {\"path\": VIS_batch_path, \"command\": \"get:VIS\"}, \n",
    "    {\"path\": IR_batch_path, \"command\": \"get:IR\"}, \n",
    "    {\"path\": VIS_IR_batch_path, \"command\": \"get:VIS_IR\"}\n",
    "]\n",
    "\n",
    "for batch in batches:\n",
    "    with open(batch[\"path\"], 'w') as f:\n",
    "        for x in range(n_samples):\n",
    "            clear_output(wait=True)\n",
    "            line = \"\"\n",
    "            arduino.write(bytes(batch[\"command\"], 'utf-8'))\n",
    "            while True:\n",
    "                # Wait until arduino sends data\n",
    "                if arduino.in_waiting > 0:\n",
    "                    line += arduino.readline().decode()\n",
    "                    # Log process\n",
    "                    print(f\"Reading {batch['command']}... {x+1}/{n_samples} samples\")\n",
    "                    break\n",
    "            f.write(line)\n",
    "            time.sleep(3) # Wait between samples to prevent overheating"
   ]
  }
 ],
 "metadata": {
  "kernelspec": {
   "display_name": "env",
   "language": "python",
   "name": "python3"
  },
  "language_info": {
   "codemirror_mode": {
    "name": "ipython",
    "version": 3
   },
   "file_extension": ".py",
   "mimetype": "text/x-python",
   "name": "python",
   "nbconvert_exporter": "python",
   "pygments_lexer": "ipython3",
   "version": "3.8.3"
  }
 },
 "nbformat": 4,
 "nbformat_minor": 2
}
