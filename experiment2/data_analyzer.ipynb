{
 "cells": [
  {
   "cell_type": "code",
   "execution_count": 13,
   "metadata": {},
   "outputs": [],
   "source": [
    "import numpy as np\n",
    "from scipy import stats\n",
    "import matplotlib.pyplot as plt\n",
    "from sklearn.utils import resample\n"
   ]
  },
  {
   "cell_type": "code",
   "execution_count": 23,
   "metadata": {},
   "outputs": [
    {
     "name": "stdout",
     "output_type": "stream",
     "text": [
      "0.0, 0.0, 0.0, 0.0, 0.0, 0.0\n"
     ]
    }
   ],
   "source": [
    "n_samples = 300\n",
    "\n",
    "data_fasted_b1 = np.loadtxt(f\"data/batch1/fasted/fasted.csv\", delimiter=',')\n",
    "data_fasted_b2 = np.loadtxt(f\"data/batch2/fasted/fasted.csv\", delimiter=',')\n",
    "data_fasted_b3 = np.loadtxt(f\"data/batch3/fasted/fasted.csv\", delimiter=',')\n",
    "data_fasted_b4 = np.loadtxt(f\"data/batch4/fasted/fasted.csv\", delimiter=',')\n",
    "# data_after_meal_b1 = np.loadtxt(f\"data/batch1/after_meal/after_meal.csv\", delimiter=',')\n",
    "# data_after_meal_b2 = np.loadtxt(f\"data/batch2/after_meal/after_meal.csv\", delimiter=',')\n",
    "\n",
    "sf1 = resample(data_fasted_b2, replace=True, n_samples=n_samples)\n",
    "sf2 = resample(data_fasted_b4, replace=True, n_samples=n_samples)\n",
    "# sam1b1 = resample(data_after_meal_b1, replace=True, n_samples=n_samples)\n",
    "# sam2b1 = resample(data_after_meal_b1, replace=True, n_samples=n_samples)\n",
    "# sam1b2 = resample(data_after_meal_b2, replace=True, n_samples=n_samples)\n",
    "# sam2b2 = resample(data_after_meal_b2, replace=True, n_samples=n_samples)\n",
    "\n",
    "stat_logs = []\n",
    "for i in range(data_fasted_b1.shape[1]):\n",
    "    s = stats.ttest_ind(sf1[:, i], sf2[:, i])\n",
    "    stat_logs.append(str(s.pvalue))\n",
    "print(\", \".join(stat_logs))\n",
    "\n",
    "# print(\"Sampled data from the same distribution(fasted) - pvalues for each column:\")\n",
    "# stat_logs = []\n",
    "# for i in range(data_fasted.shape[1]):\n",
    "#     s = stats.ttest_ind(sf1[:, i], sf2[:, i])\n",
    "#     stat_logs.append(str(s.pvalue))\n",
    "# print(\", \".join(stat_logs))\n",
    "\n",
    "# print(\"Sampled data from the same distribution(after meal) - pvalues for each column:\")\n",
    "# stat_logs = []\n",
    "# for i in range(data_fasted.shape[1]):\n",
    "#     s = stats.ttest_ind(sam1[:, i], sam2[:, i])\n",
    "#     stat_logs.append(str(s.pvalue))\n",
    "# print(\", \".join(stat_logs))\n",
    "\n",
    "# print(\"Sampled data different distributions(fasted and after meal) - pvalues for each column:\")\n",
    "# stat_logs = []\n",
    "# for i in range(data_fasted.shape[1]):\n",
    "#     s = stats.ttest_ind(sf1[:, i], sam1[:, i])\n",
    "#     stat_logs.append(str(s.pvalue))\n",
    "# print(\", \".join(stat_logs))\n",
    "# stat_logs = []\n",
    "# for i in range(data_fasted.shape[1]):\n",
    "#     s = stats.ttest_ind(sf2[:, i], sam2[:, i])\n",
    "#     stat_logs.append(str(s.pvalue))\n",
    "# print(\", \".join(stat_logs))\n"
   ]
  }
 ],
 "metadata": {
  "kernelspec": {
   "display_name": "env",
   "language": "python",
   "name": "python3"
  },
  "language_info": {
   "codemirror_mode": {
    "name": "ipython",
    "version": 3
   },
   "file_extension": ".py",
   "mimetype": "text/x-python",
   "name": "python",
   "nbconvert_exporter": "python",
   "pygments_lexer": "ipython3",
   "version": "3.8.3"
  }
 },
 "nbformat": 4,
 "nbformat_minor": 2
}
