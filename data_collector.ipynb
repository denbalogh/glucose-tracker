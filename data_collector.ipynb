{
 "cells": [
  {
   "cell_type": "code",
   "execution_count": 8,
   "metadata": {},
   "outputs": [],
   "source": [
    "import serial\n",
    "import random\n",
    "import string\n",
    "import os\n"
   ]
  },
  {
   "cell_type": "code",
   "execution_count": 5,
   "metadata": {},
   "outputs": [],
   "source": [
    "arduino = serial.Serial(port='/dev/cu.usbmodem14201',   baudrate=115200, timeout=.1)\n",
    "fasted = \"data/fasted\"\n",
    "after_meal = \"data/after_meal\"\n"
   ]
  },
  {
   "cell_type": "code",
   "execution_count": null,
   "metadata": {},
   "outputs": [],
   "source": [
    "for i in range(10):\n",
    "    hash = ''.join(random.choices(string.ascii_uppercase + string.digits, k=10))\n",
    "    f = open(f'{fasted}/raw_{hash}.txt', 'w')\n",
    "    for x in range(10):\n",
    "        arduino.write(b'get')\n",
    "        while True:\n",
    "            if arduino.in_waiting > 0:\n",
    "                line = arduino.readline()\n",
    "                f.write(line.decode())\n",
    "                print(f\"File: {i}, entry {x} added\")\n",
    "                break\n",
    "    f.close()\n"
   ]
  },
  {
   "cell_type": "code",
   "execution_count": 24,
   "metadata": {},
   "outputs": [],
   "source": [
    "t50 = []\n",
    "t100 = []\n",
    "t150 = []\n",
    "t200 = []\n",
    "\n",
    "current = after_meal\n",
    "\n",
    "for name in os.listdir(current):\n",
    "    if(\"raw_\" in name):\n",
    "        f = open(f'{current}/{name}', 'r')\n",
    "        lines = f.readlines()\n",
    "        for line in lines:\n",
    "            parsed_line = line.replace(\"\\n\", \"\").split(\"|\")\n",
    "            t50.append(parsed_line[0] + \"\\n\")\n",
    "            t100.append(parsed_line[1] + \"\\n\")\n",
    "            t150.append(parsed_line[2] + \"\\n\")\n",
    "            t200.append(parsed_line[3] + \"\\n\")\n",
    "        f.close()\n",
    "    # break\n",
    "\n",
    "f = open(f'{current}/t50.csv', 'w')\n",
    "f.write(\"\".join(t50))\n",
    "f.close()\n",
    "\n",
    "f = open(f'{current}/t100.csv', 'w')\n",
    "f.write(\"\".join(t100))\n",
    "f.close()\n",
    "\n",
    "f = open(f'{current}/t150.csv', 'w')\n",
    "f.write(\"\".join(t150))\n",
    "f.close()\n",
    "\n",
    "f = open(f'{current}/t200.csv', 'w')\n",
    "f.write(\"\".join(t200))\n",
    "f.close()\n"
   ]
  }
 ],
 "metadata": {
  "kernelspec": {
   "display_name": "env",
   "language": "python",
   "name": "python3"
  },
  "language_info": {
   "codemirror_mode": {
    "name": "ipython",
    "version": 3
   },
   "file_extension": ".py",
   "mimetype": "text/x-python",
   "name": "python",
   "nbconvert_exporter": "python",
   "pygments_lexer": "ipython3",
   "version": "3.8.3"
  }
 },
 "nbformat": 4,
 "nbformat_minor": 2
}
