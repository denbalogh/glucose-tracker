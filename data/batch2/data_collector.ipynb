{
 "cells": [
  {
   "cell_type": "code",
   "execution_count": 4,
   "metadata": {},
   "outputs": [],
   "source": [
    "import serial\n",
    "import random\n",
    "import string\n",
    "import os\n"
   ]
  },
  {
   "cell_type": "code",
   "execution_count": 5,
   "metadata": {},
   "outputs": [],
   "source": [
    "arduino = serial.Serial(port='/dev/cu.usbmodem14201', baudrate=115200, timeout=.1)\n",
    "\n",
    "fasted = \"data/fasted/raw\"\n",
    "after_meal = \"data/after_meal/raw\"\n"
   ]
  },
  {
   "cell_type": "code",
   "execution_count": null,
   "metadata": {},
   "outputs": [],
   "source": [
    "for i in range(20):\n",
    "    hash = ''.join(random.choices(string.ascii_uppercase + string.digits, k=10))\n",
    "    f = open(f'{after_meal}/raw_{hash}.txt', 'w')\n",
    "    for x in range(50):\n",
    "        arduino.write(b'get')\n",
    "        while True:\n",
    "            if arduino.in_waiting > 0:\n",
    "                line = arduino.readline()\n",
    "                f.write(line.decode())\n",
    "                print(f\"File: {i}, entry {x} added\")\n",
    "                break\n",
    "    f.close()\n"
   ]
  },
  {
   "cell_type": "code",
   "execution_count": 10,
   "metadata": {},
   "outputs": [],
   "source": [
    "current = after_meal\n",
    "all_entries = \"\"\n",
    "\n",
    "for name in os.listdir(current):\n",
    "    if(\"raw_\" in name):\n",
    "        f = open(f'{current}/{name}', 'r')\n",
    "        entries = f.read()\n",
    "        all_entries += entries\n",
    "        f.close()\n",
    "\n",
    "f = open(f'{current}/../after_meal.csv', 'w')\n",
    "f.write(all_entries)\n",
    "f.close()\n"
   ]
  }
 ],
 "metadata": {
  "kernelspec": {
   "display_name": "env",
   "language": "python",
   "name": "python3"
  },
  "language_info": {
   "codemirror_mode": {
    "name": "ipython",
    "version": 3
   },
   "file_extension": ".py",
   "mimetype": "text/x-python",
   "name": "python",
   "nbconvert_exporter": "python",
   "pygments_lexer": "ipython3",
   "version": "3.8.3"
  }
 },
 "nbformat": 4,
 "nbformat_minor": 2
}
