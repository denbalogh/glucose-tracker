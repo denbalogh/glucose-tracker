{
 "cells": [
  {
   "cell_type": "code",
   "execution_count": 1,
   "metadata": {},
   "outputs": [],
   "source": [
    "import numpy as np\n",
    "from scipy import stats\n",
    "import matplotlib.pyplot as plt\n",
    "from sklearn.utils import resample\n"
   ]
  },
  {
   "cell_type": "code",
   "execution_count": 2,
   "metadata": {},
   "outputs": [
    {
     "name": "stdout",
     "output_type": "stream",
     "text": [
      "File type t50:\n",
      "Sampled data from the same distribution(fasted) - pvalues for each column:\n",
      "0.23666782374738268, 0.27023325285394906, 0.2906524791055493, 0.2692866635809008, 0.21628715053724137, 0.2522494537201087\n",
      "Sampled data from the same distribution(after meal) - pvalues for each column:\n",
      "0.3582914973051028, 0.355258883919234, 0.3479294146522568, 0.34284328334499337, 0.36768946831231875, 0.35288547482611077\n",
      "Sampled data different distributions(fasted and after meal) - pvalues for each column:\n",
      "1.7998917310497768e-34, 3.27200915887553e-42, 1.463895500548307e-42, 1.7836025859847498e-40, 1.2497545998572028e-34, 3.312608810441608e-37\n",
      "1.794264625828292e-44, 1.217710190375866e-51, 1.0746892051029825e-51, 6.649579311748018e-50, 6.407309298808001e-45, 6.458359504309325e-47\n",
      "\n",
      "File type t100:\n",
      "Sampled data from the same distribution(fasted) - pvalues for each column:\n",
      "0.6557189702601716, 0.7582251767153192, 0.7152784267913329, 0.6947390052753235, 0.6429154864878086, 0.6761344336434989\n",
      "Sampled data from the same distribution(after meal) - pvalues for each column:\n",
      "0.25789139854139936, 0.3115365427399577, 0.28726264982459726, 0.27459284377916054, 0.30569877070151147, 0.25330552308071297\n",
      "Sampled data different distributions(fasted and after meal) - pvalues for each column:\n",
      "5.796229955554334e-38, 1.923943092890485e-44, 1.514245718904275e-45, 2.2327596285481838e-43, 6.191894185524733e-38, 4.358747546507834e-40\n",
      "1.0949678317687314e-43, 3.180013732160953e-51, 4.315616570931553e-52, 5.870085791781451e-50, 4.268622265223276e-43, 3.059500341893193e-46\n",
      "\n",
      "File type t150:\n",
      "Sampled data from the same distribution(fasted) - pvalues for each column:\n",
      "0.015339499288313848, 0.012533831137537838, 0.022742778658658907, 0.02105729356995291, 0.013884052366988206, 0.018134709645248017\n",
      "Sampled data from the same distribution(after meal) - pvalues for each column:\n",
      "0.7544401801789726, 0.6692260407131938, 0.7297751800097751, 0.7301740021282916, 0.6914557449475174, 0.7578374025954423\n",
      "Sampled data different distributions(fasted and after meal) - pvalues for each column:\n",
      "6.078170739859097e-40, 2.7587236060559488e-45, 1.4318505881174853e-46, 1.2758293583984736e-44, 1.0146056438433313e-38, 1.38603480699478e-41\n",
      "6.000080740367875e-36, 3.0283186089625187e-43, 1.585990318983297e-44, 9.157818673025375e-43, 1.5173344800998377e-34, 1.216888475435247e-38\n",
      "\n",
      "File type t200:\n",
      "Sampled data from the same distribution(fasted) - pvalues for each column:\n",
      "0.8445258665588189, 0.8879888052063076, 0.94245425566772, 0.8933388740758654, 0.8657978536802384, 0.9017578437390188\n",
      "Sampled data from the same distribution(after meal) - pvalues for each column:\n",
      "0.39126622128929656, 0.4001701641738601, 0.3581606835100798, 0.3737878985892913, 0.4464995005797985, 0.41592457811943284\n",
      "Sampled data different distributions(fasted and after meal) - pvalues for each column:\n",
      "7.533508375030764e-36, 2.8066505617959193e-43, 4.789965583882062e-44, 3.9873528014948484e-42, 6.541493782821466e-36, 1.0084795359745449e-38\n",
      "3.531066782688411e-38, 2.7590492829248463e-45, 1.1556648851881733e-46, 1.074041270465353e-44, 2.5387108961199053e-37, 8.565628755807258e-41\n",
      "\n"
     ]
    }
   ],
   "source": [
    "suffixes = [\"t50\", \"t100\", \"t150\", \"t200\"]\n",
    "n_samples = 100\n",
    "\n",
    "for suffix in suffixes:\n",
    "    data_fasted = np.loadtxt(f\"fasted/processed/{suffix}.csv\", delimiter=',')\n",
    "    data_after_meal = np.loadtxt(f\"after_meal/processed/{suffix}.csv\", delimiter=',')\n",
    "    \n",
    "    sf1 = resample(data_fasted, replace=True, n_samples=n_samples)\n",
    "    sf2 = resample(data_fasted, replace=True, n_samples=n_samples)\n",
    "    sam1 = resample(data_after_meal, replace=True, n_samples=n_samples)\n",
    "    sam2 = resample(data_after_meal, replace=True, n_samples=n_samples)\n",
    "    \n",
    "    print(f\"File type {suffix}:\")\n",
    "    print(\"Sampled data from the same distribution(fasted) - pvalues for each column:\")\n",
    "    stat_logs = []\n",
    "    for i in range(data_fasted.shape[1]):\n",
    "        s = stats.ttest_ind(sf1[:, i], sf2[:, i])\n",
    "        stat_logs.append(str(s.pvalue))\n",
    "    print(\", \".join(stat_logs))\n",
    "    \n",
    "    print(\"Sampled data from the same distribution(after meal) - pvalues for each column:\")\n",
    "    stat_logs = []\n",
    "    for i in range(data_fasted.shape[1]):\n",
    "        s = stats.ttest_ind(sam1[:, i], sam2[:, i])\n",
    "        stat_logs.append(str(s.pvalue))\n",
    "    print(\", \".join(stat_logs))\n",
    "    \n",
    "    print(\"Sampled data different distributions(fasted and after meal) - pvalues for each column:\")\n",
    "    stat_logs = []\n",
    "    for i in range(data_fasted.shape[1]):\n",
    "        s = stats.ttest_ind(sf1[:, i], sam1[:, i])\n",
    "        stat_logs.append(str(s.pvalue))\n",
    "    print(\", \".join(stat_logs))\n",
    "    stat_logs = []\n",
    "    for i in range(data_fasted.shape[1]):\n",
    "        s = stats.ttest_ind(sf2[:, i], sam2[:, i])\n",
    "        stat_logs.append(str(s.pvalue))\n",
    "    print(\", \".join(stat_logs))\n",
    "    \n",
    "    print(\"\")\n"
   ]
  }
 ],
 "metadata": {
  "kernelspec": {
   "display_name": "env",
   "language": "python",
   "name": "python3"
  },
  "language_info": {
   "codemirror_mode": {
    "name": "ipython",
    "version": 3
   },
   "file_extension": ".py",
   "mimetype": "text/x-python",
   "name": "python",
   "nbconvert_exporter": "python",
   "pygments_lexer": "ipython3",
   "version": "3.8.3"
  }
 },
 "nbformat": 4,
 "nbformat_minor": 2
}
